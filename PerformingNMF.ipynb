{
 "cells": [
  {
   "cell_type": "markdown",
   "metadata": {
    "collapsed": true,
    "pycharm": {
     "name": "#%% md\n"
    }
   },
   "source": [
    "# Non-negative Matrix Factorization"
   ]
  },
  {
   "cell_type": "code",
   "execution_count": 258,
   "outputs": [
    {
     "name": "stdout",
     "text": [
      "Libraries imported.\n"
     ],
     "output_type": "stream"
    }
   ],
   "source": [
    "import pandas as pd\n",
    "from sklearn.decomposition import NMF\n",
    "import ThingsWeDoALot as th\n",
    "\n",
    "print('Libraries imported.')"
   ],
   "metadata": {
    "collapsed": false,
    "pycharm": {
     "name": "#%%\n",
     "is_executing": false
    }
   }
  },
  {
   "cell_type": "code",
   "execution_count": 259,
   "outputs": [
    {
     "name": "stdout",
     "text": [
      "Did all the NMFs\n"
     ],
     "output_type": "stream"
    }
   ],
   "source": [
    "SpectraMatrix = pd.read_csv('data files/SpectraMatrix.csv', header=None, index_col=None)\n",
    "SpectraMatrixByBoxes = pd.read_csv('data files/SpectraMatrixByBoxes.csv', header=None, index_col=None)\n",
    "Box1 = pd.read_csv('data files/Box1.csv', header=None, index_col=None)\n",
    "Box2 = pd.read_csv('data files/Box2.csv', header=None, index_col=None)\n",
    "Box3 = th.makeDataFrameWithTheXAxis(dataframefilepath='data files/Box3.csv')\n",
    "Box4 = pd.read_csv('data files/Box4.csv', header=None, index_col=None)\n",
    "Box5 = pd.read_csv('data files/Box5nonegatives.csv', header=None, index_col=None)\n",
    "\n",
    "# I tried out our fancy ThingsWeDoALot module on Box3 above!\n",
    "\n",
    "modelSpectraMatrix = NMF(n_components=4, init='random', solver='cd', beta_loss=2, tol=1e-10)\n",
    "WSpectraMatrix = modelSpectraMatrix.fit_transform(SpectraMatrix)\n",
    "HSpectraMatrix = modelSpectraMatrix.components_\n",
    "\n",
    "modelSpectraMatrixByBoxes = NMF(n_components=4, init='random', solver='cd', beta_loss=2, tol=1e-10)\n",
    "WSpectraMatrixByBoxes = modelSpectraMatrixByBoxes.fit_transform(SpectraMatrixByBoxes)\n",
    "HSpectraMatrixByBoxes = modelSpectraMatrixByBoxes.components_\n",
    "\n",
    "modelBox1 = NMF(n_components=3, init='random', solver='cd', beta_loss=2, tol=1e-10)\n",
    "WBox1 = modelBox1.fit_transform(Box1)\n",
    "HBox1 = modelBox1.components_\n",
    "\n",
    "modelBox2 = NMF(n_components=2, init='random', solver='cd', beta_loss=2, tol=1e-10)\n",
    "WBox2 = modelBox2.fit_transform(Box2)\n",
    "HBox2 = modelBox2.components_\n",
    "\n",
    "modelBox3 = NMF(n_components=2, init='random', solver='cd', beta_loss=2, tol=1e-10)\n",
    "WBox3 = modelBox3.fit_transform(Box3)\n",
    "HBox3 = modelBox3.components_\n",
    "\n",
    "modelBox4 = NMF(n_components=2, init='random', solver='cd', beta_loss=2, tol=1e-10)\n",
    "WBox4 = modelBox4.fit_transform(Box4)\n",
    "HBox4 = modelBox4.components_\n",
    "\n",
    "modelBox5 = NMF(n_components=4, init='random', solver='cd', beta_loss=2, tol=1e-10)\n",
    "WBox5 = modelBox5.fit_transform(Box5)\n",
    "HBox5 = modelBox5.components_\n",
    "\n",
    "print('Did all the NMFs')"
   ],
   "metadata": {
    "collapsed": false,
    "pycharm": {
     "name": "#%%\n",
     "is_executing": false
    }
   }
  },
  {
   "cell_type": "code",
   "execution_count": 260,
   "outputs": [
    {
     "name": "stdout",
     "text": [
      "dataframes for W and H matrices created\n",
      "                     0         1\n",
      "theXAxis                        \n",
      "0.05975   1.902906e-04  0.000287\n",
      "0.06950   1.882775e-04  0.000436\n",
      "0.07925   1.981151e-04  0.001904\n",
      "0.08900   2.090119e-04  0.000754\n",
      "0.09875   2.282783e-04  0.000806\n",
      "...                ...       ...\n",
      "1.96100   1.753797e-07  0.000003\n",
      "1.97070   2.001547e-07  0.000003\n",
      "1.98050   1.522862e-07  0.000002\n",
      "1.99020   2.100394e-07  0.000002\n",
      "2.00000   1.572748e-07  0.000002\n",
      "\n",
      "[200 rows x 2 columns]\n"
     ],
     "output_type": "stream"
    },
    {
     "traceback": [
      "\u001b[1;31m---------------------------------------------------------------------------\u001b[0m",
      "\u001b[1;31mAttributeError\u001b[0m                            Traceback (most recent call last)",
      "\u001b[1;32m<ipython-input-260-33a08653a09e>\u001b[0m in \u001b[0;36m<module>\u001b[1;34m\u001b[0m\n\u001b[0;32m     25\u001b[0m \u001b[0mwithXAxis\u001b[0m \u001b[1;33m=\u001b[0m \u001b[0mpd\u001b[0m\u001b[1;33m.\u001b[0m\u001b[0mconcat\u001b[0m\u001b[1;33m(\u001b[0m\u001b[1;33m(\u001b[0m\u001b[0mWBox3DataFrame\u001b[0m\u001b[1;33m,\u001b[0m \u001b[0mtheXAxis\u001b[0m\u001b[1;33m)\u001b[0m\u001b[1;33m,\u001b[0m \u001b[0maxis\u001b[0m\u001b[1;33m=\u001b[0m\u001b[1;36m1\u001b[0m\u001b[1;33m)\u001b[0m\u001b[1;33m\u001b[0m\u001b[1;33m\u001b[0m\u001b[0m\n\u001b[0;32m     26\u001b[0m \u001b[0mprint\u001b[0m\u001b[1;33m(\u001b[0m\u001b[0mwithXAxis\u001b[0m\u001b[1;33m.\u001b[0m\u001b[0mset_index\u001b[0m\u001b[1;33m(\u001b[0m\u001b[1;34m'theXAxis'\u001b[0m\u001b[1;33m)\u001b[0m\u001b[1;33m)\u001b[0m\u001b[1;33m\u001b[0m\u001b[1;33m\u001b[0m\u001b[0m\n\u001b[1;32m---> 27\u001b[1;33m \u001b[0mWBox3DataFramewithXAxis\u001b[0m \u001b[1;33m=\u001b[0m \u001b[0mth\u001b[0m\u001b[1;33m.\u001b[0m\u001b[0mattachXAxis\u001b[0m\u001b[1;33m(\u001b[0m\u001b[0mdataframe\u001b[0m\u001b[1;33m=\u001b[0m\u001b[0mWBox3DataFrame\u001b[0m\u001b[1;33m)\u001b[0m\u001b[1;33m\u001b[0m\u001b[1;33m\u001b[0m\u001b[0m\n\u001b[0m\u001b[0;32m     28\u001b[0m \u001b[0mprint\u001b[0m\u001b[1;33m(\u001b[0m\u001b[0mWBox3DataFramewithXAxis\u001b[0m\u001b[1;33m)\u001b[0m\u001b[1;33m\u001b[0m\u001b[1;33m\u001b[0m\u001b[0m\n",
      "\u001b[1;31mAttributeError\u001b[0m: module 'ThingsWeDoALot' has no attribute 'attachXAxis'"
     ],
     "ename": "AttributeError",
     "evalue": "module 'ThingsWeDoALot' has no attribute 'attachXAxis'",
     "output_type": "error"
    }
   ],
   "source": [
    "WSpectraMatrixDataFrame = pd.DataFrame(data=WSpectraMatrix)\n",
    "HSpectraMatrixDataFrame = pd.DataFrame(data=HSpectraMatrix)\n",
    "\n",
    "WSpectraMatrixByBoxesDataFrame = pd.DataFrame(data=WSpectraMatrixByBoxes)\n",
    "HSpectraMatrixByBoxesDataFrame = pd.DataFrame(data=HSpectraMatrixByBoxes)\n",
    "\n",
    "WBox1DataFrame = pd.DataFrame(data=WBox1)\n",
    "HBox1DataFrame = pd.DataFrame(data=HBox1)\n",
    "\n",
    "WBox2DataFrame = pd.DataFrame(data=WBox2)\n",
    "HBox2DataFrame = pd.DataFrame(data=HBox2)\n",
    "\n",
    "WBox3DataFrame = pd.DataFrame(data=WBox3)\n",
    "HBox3DataFrame = pd.DataFrame(data=HBox3)\n",
    "\n",
    "WBox4DataFrame = pd.DataFrame(data=WBox4)\n",
    "HBox4DataFrame = pd.DataFrame(data=HBox4)\n",
    "\n",
    "WBox5DataFrame = pd.DataFrame(data=WBox5)\n",
    "HBox5DataFrame = pd.DataFrame(data=HBox5)\n",
    "\n",
    "print('dataframes for W and H matrices created')\n",
    "\n",
    "theXAxis = pd.read_csv(filepath_or_buffer='data files/TheXAxis.csv', index_col=None)\n",
    "withXAxis = pd.concat((WBox3DataFrame, theXAxis), axis=1)\n",
    "print(withXAxis.set_index('theXAxis'))\n",
    "WBox3DataFramewithXAxis = th.attachXAxis(dataframe=WBox3DataFrame)\n",
    "print(WBox3DataFramewithXAxis)"
   ],
   "metadata": {
    "collapsed": false,
    "pycharm": {
     "name": "#%%\n",
     "is_executing": false
    }
   }
  },
  {
   "cell_type": "markdown",
   "source": [
    "### W Matrix for SpectraMatrix"
   ],
   "metadata": {
    "collapsed": false,
    "pycharm": {
     "name": "#%% md\n"
    }
   }
  },
  {
   "cell_type": "code",
   "execution_count": null,
   "outputs": [],
   "source": [
    "for i in range(4):\n",
    "    WSpectraMatrixDataFrame.plot(kind='line', y=i, figsize=(8, 6))"
   ],
   "metadata": {
    "collapsed": false,
    "pycharm": {
     "name": "#%%\n",
     "is_executing": false
    }
   }
  },
  {
   "cell_type": "markdown",
   "source": [
    "### W Matrix for SpectraMatrixByBoxes"
   ],
   "metadata": {
    "collapsed": false
   }
  },
  {
   "cell_type": "code",
   "execution_count": null,
   "outputs": [],
   "source": [
    "for i in range(4):\n",
    "    WSpectraMatrixByBoxesDataFrame.plot(kind='line', y=i, figsize=(8, 6))"
   ],
   "metadata": {
    "collapsed": false,
    "pycharm": {
     "name": "#%%\n",
     "is_executing": false
    }
   }
  },
  {
   "cell_type": "markdown",
   "source": [
    "### W Matrix for Box1"
   ],
   "metadata": {
    "collapsed": false
   }
  },
  {
   "cell_type": "code",
   "execution_count": null,
   "outputs": [],
   "source": [
    "for i in range(3):\n",
    "    WBox1DataFrame.plot(kind='line', y=i, figsize=(8, 6))"
   ],
   "metadata": {
    "collapsed": false,
    "pycharm": {
     "name": "#%%\n",
     "is_executing": false
    }
   }
  },
  {
   "cell_type": "markdown",
   "source": [
    "### W Matrix for Box2"
   ],
   "metadata": {
    "collapsed": false
   }
  },
  {
   "cell_type": "code",
   "execution_count": null,
   "outputs": [],
   "source": [
    "for i in range(2):\n",
    "    WBox2DataFrame.plot(kind='line', y=i, figsize=(8, 6))"
   ],
   "metadata": {
    "collapsed": false,
    "pycharm": {
     "name": "#%%\n",
     "is_executing": false
    }
   }
  },
  {
   "cell_type": "markdown",
   "source": [
    "### W Matrix for Box3"
   ],
   "metadata": {
    "collapsed": false
   }
  },
  {
   "cell_type": "code",
   "execution_count": null,
   "outputs": [],
   "source": [
    "# I'm trying out our fancy ThingsWeDoALot module here!\n",
    "\n",
    "for i in range(2):\n",
    "    th.linePlotTheThing(dataframetoplot=WBox3DataFrame, columntoplot=i, islogscale=False)\n",
    "    # WBox3DataFrame.plot(kind='line', y=i, figsize=(8, 6))"
   ],
   "metadata": {
    "collapsed": false,
    "pycharm": {
     "name": "#%%\n",
     "is_executing": false
    }
   }
  },
  {
   "cell_type": "markdown",
   "source": [
    "### W Matrix for Box4"
   ],
   "metadata": {
    "collapsed": false
   }
  },
  {
   "cell_type": "code",
   "execution_count": null,
   "outputs": [],
   "source": [
    "for i in range(2):\n",
    "    WBox4DataFrame.plot(kind='line', y=i, figsize=(8, 6))"
   ],
   "metadata": {
    "collapsed": false,
    "pycharm": {
     "name": "#%%\n",
     "is_executing": false
    }
   }
  },
  {
   "cell_type": "markdown",
   "source": [
    "### W Matrix for Box5"
   ],
   "metadata": {
    "collapsed": false
   }
  },
  {
   "cell_type": "code",
   "execution_count": null,
   "outputs": [],
   "source": [
    "for i in range(4):\n",
    "    WBox5DataFrame.plot(kind='line', y=i, figsize=(8, 6))"
   ],
   "metadata": {
    "collapsed": false,
    "pycharm": {
     "name": "#%%\n",
     "is_executing": false
    }
   }
  },
  {
   "cell_type": "markdown",
   "source": [
    "# In The Future\n",
    "\n",
    "Something worth trying in the future is to use the W matrices from SpectraMatrix or SpectraMatrixByBoxes (or, even more relevantly, constructing a W matrix from columns in the W matrices for Boxes 1, 2, 3, and 4) and deriving an H matrix which can reasonably recreate Box 5.\n"
   ],
   "metadata": {
    "collapsed": false,
    "pycharm": {
     "name": "#%% md\n"
    }
   }
  }
 ],
 "metadata": {
  "kernelspec": {
   "display_name": "Python 3",
   "language": "python",
   "name": "python3"
  },
  "language_info": {
   "codemirror_mode": {
    "name": "ipython",
    "version": 2
   },
   "file_extension": ".py",
   "mimetype": "text/x-python",
   "name": "python",
   "nbconvert_exporter": "python",
   "pygments_lexer": "ipython2",
   "version": "2.7.6"
  },
  "pycharm": {
   "stem_cell": {
    "cell_type": "raw",
    "source": [],
    "metadata": {
     "collapsed": false
    }
   }
  }
 },
 "nbformat": 4,
 "nbformat_minor": 0
}