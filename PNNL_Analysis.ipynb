{
 "cells": [
  {
   "cell_type": "code",
   "execution_count": 8,
   "outputs": [
    {
     "name": "stdout",
     "text": [
      "Initialization successful.\n"
     ],
     "output_type": "stream"
    }
   ],
   "source": [
    "import pandas as pd\n",
    "import numpy as np\n",
    "import matplotlib.pyplot as plt\n",
    "\n",
    "print(\"Initialization successful.\")"
   ],
   "metadata": {
    "collapsed": false,
    "pycharm": {
     "name": "#%%\n",
     "is_executing": false
    }
   }
  },
  {
   "cell_type": "code",
   "execution_count": 9,
   "outputs": [
    {
     "name": "stdout",
     "text": [
      "<class 'pandas.core.frame.DataFrame'>\n",
      "Float64Index: 200 entries, 0.05975 to 2.0\n",
      "Columns: 1765 entries, 1 to 1765\n",
      "dtypes: float64(1765)\n",
      "memory usage: 2.7 MB\n"
     ],
     "output_type": "stream"
    }
   ],
   "source": [
    "# Setting up the dataframe\n",
    "\n",
    "path = \"SpectraMatrixWithXAxis.csv\"\n",
    "PNNLdata = pd.read_csv(path, header=None, index_col=0)\n",
    "PNNLdata.info()"
   ],
   "metadata": {
    "collapsed": false,
    "pycharm": {
     "name": "#%%\n",
     "is_executing": false
    }
   }
  },
  {
   "cell_type": "markdown",
   "source": [
    "> Once we know what the data even is, then we can make \n",
    "> graphs or something.\n",
    "\n",
    "Future Tasks\n",
    "- Learn how to read data\n",
    "- Learn how to do PCA, NNMF, and CPT in Python\n",
    "- Make pretty graphs, win Nobel Prize"
   ],
   "metadata": {
    "collapsed": false
   }
  },
  {
   "cell_type": "code",
   "execution_count": 10,
   "outputs": [
    {
     "data": {
      "text/plain": "                 1             2             3             4             5     \\\n0                                                                               \n0.05975  2.560000e-08  1.520000e-08  2.170000e-08  2.480000e-08  2.930000e-08   \n0.06950  3.930000e-08  2.350000e-08  3.330000e-08  3.800000e-08  4.510000e-08   \n0.07925  1.810000e-07  1.050000e-07  1.540000e-07  1.750000e-07  2.050000e-07   \n0.08900  7.080000e-08  4.180000e-08  5.990000e-08  6.850000e-08  8.150000e-08   \n0.09875  7.600000e-08  4.470000e-08  6.490000e-08  7.340000e-08  8.660000e-08   \n\n                 6             7             8             9             10    \\\n0                                                                               \n0.05975  1.750000e-08  2.510000e-08  2.840000e-08  3.220000e-08  1.930000e-08   \n0.06950  2.690000e-08  3.830000e-08  4.340000e-08  4.870000e-08  2.880000e-08   \n0.07925  1.190000e-07  1.740000e-07  1.980000e-07  2.200000e-07  1.280000e-07   \n0.08900  4.780000e-08  6.910000e-08  7.870000e-08  8.600000e-08  5.050000e-08   \n0.09875  5.030000e-08  7.300000e-08  8.350000e-08  9.150000e-08  5.380000e-08   \n\n         ...          1756          1757          1758          1759  \\\n0        ...                                                           \n0.05975  ...  2.740000e-08  2.750000e-08  1.610000e-08  2.340000e-08   \n0.06950  ...  4.250000e-08  4.170000e-08  2.430000e-08  3.520000e-08   \n0.07925  ...  1.910000e-07  1.880000e-07  1.090000e-07  1.600000e-07   \n0.08900  ...  7.550000e-08  7.290000e-08  4.260000e-08  6.180000e-08   \n0.09875  ...  8.030000e-08  7.940000e-08  4.640000e-08  6.730000e-08   \n\n                 1760          1761          1762          1763          1764  \\\n0                                                                               \n0.05975  2.650000e-08  2.430000e-08  1.420000e-08  2.050000e-08  2.340000e-08   \n0.06950  4.020000e-08  3.620000e-08  2.080000e-08  3.030000e-08  3.470000e-08   \n0.07925  1.820000e-07  1.660000e-07  9.670000e-08  1.410000e-07  1.600000e-07   \n0.08900  7.040000e-08  6.520000e-08  3.830000e-08  5.530000e-08  6.320000e-08   \n0.09875  7.670000e-08  6.920000e-08  4.050000e-08  5.860000e-08  6.670000e-08   \n\n            1765  \n0                 \n0.05975      0.0  \n0.06950     10.0  \n0.07925    100.0  \n0.08900   1000.0  \n0.09875  10000.0  \n\n[5 rows x 1765 columns]",
      "text/html": "<div>\n<style scoped>\n    .dataframe tbody tr th:only-of-type {\n        vertical-align: middle;\n    }\n\n    .dataframe tbody tr th {\n        vertical-align: top;\n    }\n\n    .dataframe thead th {\n        text-align: right;\n    }\n</style>\n<table border=\"1\" class=\"dataframe\">\n  <thead>\n    <tr style=\"text-align: right;\">\n      <th></th>\n      <th>1</th>\n      <th>2</th>\n      <th>3</th>\n      <th>4</th>\n      <th>5</th>\n      <th>6</th>\n      <th>7</th>\n      <th>8</th>\n      <th>9</th>\n      <th>10</th>\n      <th>...</th>\n      <th>1756</th>\n      <th>1757</th>\n      <th>1758</th>\n      <th>1759</th>\n      <th>1760</th>\n      <th>1761</th>\n      <th>1762</th>\n      <th>1763</th>\n      <th>1764</th>\n      <th>1765</th>\n    </tr>\n    <tr>\n      <th>0</th>\n      <th></th>\n      <th></th>\n      <th></th>\n      <th></th>\n      <th></th>\n      <th></th>\n      <th></th>\n      <th></th>\n      <th></th>\n      <th></th>\n      <th></th>\n      <th></th>\n      <th></th>\n      <th></th>\n      <th></th>\n      <th></th>\n      <th></th>\n      <th></th>\n      <th></th>\n      <th></th>\n      <th></th>\n    </tr>\n  </thead>\n  <tbody>\n    <tr>\n      <th>0.05975</th>\n      <td>2.560000e-08</td>\n      <td>1.520000e-08</td>\n      <td>2.170000e-08</td>\n      <td>2.480000e-08</td>\n      <td>2.930000e-08</td>\n      <td>1.750000e-08</td>\n      <td>2.510000e-08</td>\n      <td>2.840000e-08</td>\n      <td>3.220000e-08</td>\n      <td>1.930000e-08</td>\n      <td>...</td>\n      <td>2.740000e-08</td>\n      <td>2.750000e-08</td>\n      <td>1.610000e-08</td>\n      <td>2.340000e-08</td>\n      <td>2.650000e-08</td>\n      <td>2.430000e-08</td>\n      <td>1.420000e-08</td>\n      <td>2.050000e-08</td>\n      <td>2.340000e-08</td>\n      <td>0.0</td>\n    </tr>\n    <tr>\n      <th>0.06950</th>\n      <td>3.930000e-08</td>\n      <td>2.350000e-08</td>\n      <td>3.330000e-08</td>\n      <td>3.800000e-08</td>\n      <td>4.510000e-08</td>\n      <td>2.690000e-08</td>\n      <td>3.830000e-08</td>\n      <td>4.340000e-08</td>\n      <td>4.870000e-08</td>\n      <td>2.880000e-08</td>\n      <td>...</td>\n      <td>4.250000e-08</td>\n      <td>4.170000e-08</td>\n      <td>2.430000e-08</td>\n      <td>3.520000e-08</td>\n      <td>4.020000e-08</td>\n      <td>3.620000e-08</td>\n      <td>2.080000e-08</td>\n      <td>3.030000e-08</td>\n      <td>3.470000e-08</td>\n      <td>10.0</td>\n    </tr>\n    <tr>\n      <th>0.07925</th>\n      <td>1.810000e-07</td>\n      <td>1.050000e-07</td>\n      <td>1.540000e-07</td>\n      <td>1.750000e-07</td>\n      <td>2.050000e-07</td>\n      <td>1.190000e-07</td>\n      <td>1.740000e-07</td>\n      <td>1.980000e-07</td>\n      <td>2.200000e-07</td>\n      <td>1.280000e-07</td>\n      <td>...</td>\n      <td>1.910000e-07</td>\n      <td>1.880000e-07</td>\n      <td>1.090000e-07</td>\n      <td>1.600000e-07</td>\n      <td>1.820000e-07</td>\n      <td>1.660000e-07</td>\n      <td>9.670000e-08</td>\n      <td>1.410000e-07</td>\n      <td>1.600000e-07</td>\n      <td>100.0</td>\n    </tr>\n    <tr>\n      <th>0.08900</th>\n      <td>7.080000e-08</td>\n      <td>4.180000e-08</td>\n      <td>5.990000e-08</td>\n      <td>6.850000e-08</td>\n      <td>8.150000e-08</td>\n      <td>4.780000e-08</td>\n      <td>6.910000e-08</td>\n      <td>7.870000e-08</td>\n      <td>8.600000e-08</td>\n      <td>5.050000e-08</td>\n      <td>...</td>\n      <td>7.550000e-08</td>\n      <td>7.290000e-08</td>\n      <td>4.260000e-08</td>\n      <td>6.180000e-08</td>\n      <td>7.040000e-08</td>\n      <td>6.520000e-08</td>\n      <td>3.830000e-08</td>\n      <td>5.530000e-08</td>\n      <td>6.320000e-08</td>\n      <td>1000.0</td>\n    </tr>\n    <tr>\n      <th>0.09875</th>\n      <td>7.600000e-08</td>\n      <td>4.470000e-08</td>\n      <td>6.490000e-08</td>\n      <td>7.340000e-08</td>\n      <td>8.660000e-08</td>\n      <td>5.030000e-08</td>\n      <td>7.300000e-08</td>\n      <td>8.350000e-08</td>\n      <td>9.150000e-08</td>\n      <td>5.380000e-08</td>\n      <td>...</td>\n      <td>8.030000e-08</td>\n      <td>7.940000e-08</td>\n      <td>4.640000e-08</td>\n      <td>6.730000e-08</td>\n      <td>7.670000e-08</td>\n      <td>6.920000e-08</td>\n      <td>4.050000e-08</td>\n      <td>5.860000e-08</td>\n      <td>6.670000e-08</td>\n      <td>10000.0</td>\n    </tr>\n  </tbody>\n</table>\n<p>5 rows × 1765 columns</p>\n</div>"
     },
     "metadata": {},
     "output_type": "execute_result",
     "execution_count": 10
    }
   ],
   "source": [
    "PNNLdata.head()"
   ],
   "metadata": {
    "collapsed": false,
    "pycharm": {
     "name": "#%%\n",
     "is_executing": false
    }
   }
  },
  {
   "cell_type": "code",
   "execution_count": 11,
   "outputs": [
    {
     "data": {
      "text/plain": "                1             2             3             4             5     \\\n0                                                                              \n1.9610  1.960000e-10  1.260000e-10  1.680000e-10  1.910000e-10  2.790000e-10   \n1.9707  3.030000e-10  1.960000e-10  2.650000e-10  2.930000e-10  2.650000e-10   \n1.9805  2.280000e-10  1.350000e-10  2.050000e-10  2.240000e-10  2.610000e-10   \n1.9902  1.860000e-10  9.310000e-11  1.580000e-10  1.860000e-10  2.050000e-10   \n2.0000  1.960000e-10  1.070000e-10  1.540000e-10  1.860000e-10  3.070000e-10   \n\n                6             7             8             9             10    \\\n0                                                                              \n1.9610  1.580000e-10  2.560000e-10  2.790000e-10  3.910000e-10  2.100000e-10   \n1.9707  1.440000e-10  2.240000e-10  2.610000e-10  3.540000e-10  1.910000e-10   \n1.9805  1.490000e-10  2.330000e-10  2.560000e-10  2.240000e-10  1.260000e-10   \n1.9902  1.070000e-10  1.860000e-10  2.050000e-10  2.280000e-10  1.400000e-10   \n2.0000  1.630000e-10  2.510000e-10  2.790000e-10  2.930000e-10  1.540000e-10   \n\n        ...          1756          1757          1758          1759  \\\n0       ...                                                           \n1.9610  ...  2.650000e-10  2.750000e-10  1.580000e-10  2.370000e-10   \n1.9707  ...  3.070000e-10  2.890000e-10  1.630000e-10  2.240000e-10   \n1.9805  ...  1.820000e-10  2.610000e-10  1.630000e-10  2.280000e-10   \n1.9902  ...  2.750000e-10  2.420000e-10  1.440000e-10  2.280000e-10   \n2.0000  ...  2.100000e-10  2.840000e-10  1.580000e-10  2.510000e-10   \n\n                1760          1761          1762          1763          1764  \\\n0                                                                              \n1.9610  2.610000e-10  2.330000e-10  1.210000e-10  1.770000e-10  2.100000e-10   \n1.9707  2.750000e-10  2.280000e-10  1.440000e-10  1.910000e-10  2.190000e-10   \n1.9805  2.510000e-10  2.420000e-10  1.820000e-10  2.140000e-10  2.330000e-10   \n1.9902  2.370000e-10  2.510000e-10  1.490000e-10  2.100000e-10  2.510000e-10   \n2.0000  2.750000e-10  1.490000e-10  1.070000e-10  1.210000e-10  1.400000e-10   \n\n            1765  \n0                 \n1.9610  407000.0  \n1.9707  409000.0  \n1.9805  412000.0  \n1.9902  414000.0  \n2.0000  416000.0  \n\n[5 rows x 1765 columns]",
      "text/html": "<div>\n<style scoped>\n    .dataframe tbody tr th:only-of-type {\n        vertical-align: middle;\n    }\n\n    .dataframe tbody tr th {\n        vertical-align: top;\n    }\n\n    .dataframe thead th {\n        text-align: right;\n    }\n</style>\n<table border=\"1\" class=\"dataframe\">\n  <thead>\n    <tr style=\"text-align: right;\">\n      <th></th>\n      <th>1</th>\n      <th>2</th>\n      <th>3</th>\n      <th>4</th>\n      <th>5</th>\n      <th>6</th>\n      <th>7</th>\n      <th>8</th>\n      <th>9</th>\n      <th>10</th>\n      <th>...</th>\n      <th>1756</th>\n      <th>1757</th>\n      <th>1758</th>\n      <th>1759</th>\n      <th>1760</th>\n      <th>1761</th>\n      <th>1762</th>\n      <th>1763</th>\n      <th>1764</th>\n      <th>1765</th>\n    </tr>\n    <tr>\n      <th>0</th>\n      <th></th>\n      <th></th>\n      <th></th>\n      <th></th>\n      <th></th>\n      <th></th>\n      <th></th>\n      <th></th>\n      <th></th>\n      <th></th>\n      <th></th>\n      <th></th>\n      <th></th>\n      <th></th>\n      <th></th>\n      <th></th>\n      <th></th>\n      <th></th>\n      <th></th>\n      <th></th>\n      <th></th>\n    </tr>\n  </thead>\n  <tbody>\n    <tr>\n      <th>1.9610</th>\n      <td>1.960000e-10</td>\n      <td>1.260000e-10</td>\n      <td>1.680000e-10</td>\n      <td>1.910000e-10</td>\n      <td>2.790000e-10</td>\n      <td>1.580000e-10</td>\n      <td>2.560000e-10</td>\n      <td>2.790000e-10</td>\n      <td>3.910000e-10</td>\n      <td>2.100000e-10</td>\n      <td>...</td>\n      <td>2.650000e-10</td>\n      <td>2.750000e-10</td>\n      <td>1.580000e-10</td>\n      <td>2.370000e-10</td>\n      <td>2.610000e-10</td>\n      <td>2.330000e-10</td>\n      <td>1.210000e-10</td>\n      <td>1.770000e-10</td>\n      <td>2.100000e-10</td>\n      <td>407000.0</td>\n    </tr>\n    <tr>\n      <th>1.9707</th>\n      <td>3.030000e-10</td>\n      <td>1.960000e-10</td>\n      <td>2.650000e-10</td>\n      <td>2.930000e-10</td>\n      <td>2.650000e-10</td>\n      <td>1.440000e-10</td>\n      <td>2.240000e-10</td>\n      <td>2.610000e-10</td>\n      <td>3.540000e-10</td>\n      <td>1.910000e-10</td>\n      <td>...</td>\n      <td>3.070000e-10</td>\n      <td>2.890000e-10</td>\n      <td>1.630000e-10</td>\n      <td>2.240000e-10</td>\n      <td>2.750000e-10</td>\n      <td>2.280000e-10</td>\n      <td>1.440000e-10</td>\n      <td>1.910000e-10</td>\n      <td>2.190000e-10</td>\n      <td>409000.0</td>\n    </tr>\n    <tr>\n      <th>1.9805</th>\n      <td>2.280000e-10</td>\n      <td>1.350000e-10</td>\n      <td>2.050000e-10</td>\n      <td>2.240000e-10</td>\n      <td>2.610000e-10</td>\n      <td>1.490000e-10</td>\n      <td>2.330000e-10</td>\n      <td>2.560000e-10</td>\n      <td>2.240000e-10</td>\n      <td>1.260000e-10</td>\n      <td>...</td>\n      <td>1.820000e-10</td>\n      <td>2.610000e-10</td>\n      <td>1.630000e-10</td>\n      <td>2.280000e-10</td>\n      <td>2.510000e-10</td>\n      <td>2.420000e-10</td>\n      <td>1.820000e-10</td>\n      <td>2.140000e-10</td>\n      <td>2.330000e-10</td>\n      <td>412000.0</td>\n    </tr>\n    <tr>\n      <th>1.9902</th>\n      <td>1.860000e-10</td>\n      <td>9.310000e-11</td>\n      <td>1.580000e-10</td>\n      <td>1.860000e-10</td>\n      <td>2.050000e-10</td>\n      <td>1.070000e-10</td>\n      <td>1.860000e-10</td>\n      <td>2.050000e-10</td>\n      <td>2.280000e-10</td>\n      <td>1.400000e-10</td>\n      <td>...</td>\n      <td>2.750000e-10</td>\n      <td>2.420000e-10</td>\n      <td>1.440000e-10</td>\n      <td>2.280000e-10</td>\n      <td>2.370000e-10</td>\n      <td>2.510000e-10</td>\n      <td>1.490000e-10</td>\n      <td>2.100000e-10</td>\n      <td>2.510000e-10</td>\n      <td>414000.0</td>\n    </tr>\n    <tr>\n      <th>2.0000</th>\n      <td>1.960000e-10</td>\n      <td>1.070000e-10</td>\n      <td>1.540000e-10</td>\n      <td>1.860000e-10</td>\n      <td>3.070000e-10</td>\n      <td>1.630000e-10</td>\n      <td>2.510000e-10</td>\n      <td>2.790000e-10</td>\n      <td>2.930000e-10</td>\n      <td>1.540000e-10</td>\n      <td>...</td>\n      <td>2.100000e-10</td>\n      <td>2.840000e-10</td>\n      <td>1.580000e-10</td>\n      <td>2.510000e-10</td>\n      <td>2.750000e-10</td>\n      <td>1.490000e-10</td>\n      <td>1.070000e-10</td>\n      <td>1.210000e-10</td>\n      <td>1.400000e-10</td>\n      <td>416000.0</td>\n    </tr>\n  </tbody>\n</table>\n<p>5 rows × 1765 columns</p>\n</div>"
     },
     "metadata": {},
     "output_type": "execute_result",
     "execution_count": 11
    }
   ],
   "source": [
    "PNNLdata.tail()"
   ],
   "metadata": {
    "collapsed": false,
    "pycharm": {
     "name": "#%%\n",
     "is_executing": false
    }
   }
  },
  {
   "cell_type": "code",
   "execution_count": 12,
   "outputs": [
    {
     "data": {
      "text/plain": "<matplotlib.axes._subplots.AxesSubplot at 0x248baa7e358>"
     },
     "metadata": {},
     "output_type": "execute_result",
     "execution_count": 12
    },
    {
     "data": {
      "text/plain": "<Figure size 576x432 with 1 Axes>",
      "image/png": "[encoded data removed]"
     },
     "metadata": {
      "needs_background": "light"
     },
     "output_type": "display_data"
    }
   ],
   "source": [
    "PNNLdata.plot(kind=\"line\", y=1, figsize=(8, 6), logy=True)"
   ],
   "metadata": {
    "collapsed": false,
    "pycharm": {
     "name": "#%%\n",
     "is_executing": false
    }
   }
  },
  {
   "cell_type": "code",
   "execution_count": 13,
   "outputs": [
    {
     "data": {
      "text/plain": "<matplotlib.axes._subplots.AxesSubplot at 0x248bb5c0128>"
     },
     "metadata": {},
     "output_type": "execute_result",
     "execution_count": 13
    },
    {
     "data": {
      "text/plain": "<Figure size 576x432 with 1 Axes>",
      "image/png": "[encoded data removed]"
     },
     "metadata": {
      "needs_background": "light"
     },
     "output_type": "display_data"
    }
   ],
   "source": [
    "PNNLdata.plot(kind=\"line\", y=1050, figsize=(8, 6), logy=True)"
   ],
   "metadata": {
    "collapsed": false,
    "pycharm": {
     "name": "#%%\n",
     "is_executing": false
    }
   }
  },
  {
   "cell_type": "code",
   "execution_count": 14,
   "outputs": [
    {
     "data": {
      "text/plain": "<matplotlib.axes._subplots.AxesSubplot at 0x248bbc3e1d0>"
     },
     "metadata": {},
     "output_type": "execute_result",
     "execution_count": 14
    },
    {
     "data": {
      "text/plain": "<Figure size 576x432 with 1 Axes>",
      "image/png": "[encoded data removed]"
     },
     "metadata": {
      "needs_background": "light"
     },
     "output_type": "display_data"
    }
   ],
   "source": [
    "PNNLdata.plot(kind=\"line\", y=1765, figsize=(8, 6), logy=True)"
   ],
   "metadata": {
    "collapsed": false,
    "pycharm": {
     "name": "#%%\n",
     "is_executing": false
    }
   }
  },
  {
   "cell_type": "code",
   "execution_count": 15,
   "outputs": [
    {
     "name": "stdout",
     "text": [
      "#%% \n",
      "\n",
      "PNNLdata.plot(kind='line', y=0, figsize=(8, 6), logy=True)\n",
      "\n",
      "#%% \n",
      "\n",
      "PNNLdata.plot(kind='line', y=20, figsize=(8, 6), logy=True)\n",
      "\n",
      "#%% \n",
      "\n",
      "PNNLdata.plot(kind='line', y=40, figsize=(8, 6), logy=True)\n",
      "\n",
      "#%% \n",
      "\n",
      "PNNLdata.plot(kind='line', y=60, figsize=(8, 6), logy=True)\n",
      "\n",
      "#%% \n",
      "\n",
      "PNNLdata.plot(kind='line', y=80, figsize=(8, 6), logy=True)\n",
      "\n",
      "#%% \n",
      "\n",
      "PNNLdata.plot(kind='line', y=100, figsize=(8, 6), logy=True)\n",
      "\n",
      "#%% \n",
      "\n",
      "PNNLdata.plot(kind='line', y=120, figsize=(8, 6), logy=True)\n",
      "\n",
      "#%% \n",
      "\n",
      "PNNLdata.plot(kind='line', y=140, figsize=(8, 6), logy=True)\n",
      "\n",
      "#%% \n",
      "\n",
      "PNNLdata.plot(kind='line', y=160, figsize=(8, 6), logy=True)\n",
      "\n",
      "#%% \n",
      "\n",
      "PNNLdata.plot(kind='line', y=180, figsize=(8, 6), logy=True)\n",
      "\n",
      "#%% \n",
      "\n",
      "PNNLdata.plot(kind='line', y=200, figsize=(8, 6), logy=True)\n",
      "\n",
      "#%% \n",
      "\n",
      "PNNLdata.plot(kind='line', y=220, figsize=(8, 6), logy=True)\n",
      "\n",
      "#%% \n",
      "\n",
      "PNNLdata.plot(kind='line', y=240, figsize=(8, 6), logy=True)\n",
      "\n",
      "#%% \n",
      "\n",
      "PNNLdata.plot(kind='line', y=260, figsize=(8, 6), logy=True)\n",
      "\n",
      "#%% \n",
      "\n",
      "PNNLdata.plot(kind='line', y=280, figsize=(8, 6), logy=True)\n",
      "\n",
      "#%% \n",
      "\n",
      "PNNLdata.plot(kind='line', y=300, figsize=(8, 6), logy=True)\n",
      "\n",
      "#%% \n",
      "\n",
      "PNNLdata.plot(kind='line', y=320, figsize=(8, 6), logy=True)\n",
      "\n",
      "#%% \n",
      "\n",
      "PNNLdata.plot(kind='line', y=340, figsize=(8, 6), logy=True)\n",
      "\n",
      "#%% \n",
      "\n",
      "PNNLdata.plot(kind='line', y=360, figsize=(8, 6), logy=True)\n",
      "\n",
      "#%% \n",
      "\n",
      "PNNLdata.plot(kind='line', y=380, figsize=(8, 6), logy=True)\n",
      "\n",
      "#%% \n",
      "\n",
      "PNNLdata.plot(kind='line', y=400, figsize=(8, 6), logy=True)\n",
      "\n",
      "#%% \n",
      "\n",
      "PNNLdata.plot(kind='line', y=420, figsize=(8, 6), logy=True)\n",
      "\n",
      "#%% \n",
      "\n",
      "PNNLdata.plot(kind='line', y=440, figsize=(8, 6), logy=True)\n",
      "\n",
      "#%% \n",
      "\n",
      "PNNLdata.plot(kind='line', y=460, figsize=(8, 6), logy=True)\n",
      "\n",
      "#%% \n",
      "\n",
      "PNNLdata.plot(kind='line', y=480, figsize=(8, 6), logy=True)\n",
      "\n",
      "#%% \n",
      "\n",
      "PNNLdata.plot(kind='line', y=500, figsize=(8, 6), logy=True)\n",
      "\n",
      "#%% \n",
      "\n",
      "PNNLdata.plot(kind='line', y=520, figsize=(8, 6), logy=True)\n",
      "\n",
      "#%% \n",
      "\n",
      "PNNLdata.plot(kind='line', y=540, figsize=(8, 6), logy=True)\n",
      "\n",
      "#%% \n",
      "\n",
      "PNNLdata.plot(kind='line', y=560, figsize=(8, 6), logy=True)\n",
      "\n",
      "#%% \n",
      "\n",
      "PNNLdata.plot(kind='line', y=580, figsize=(8, 6), logy=True)\n",
      "\n",
      "#%% \n",
      "\n",
      "PNNLdata.plot(kind='line', y=600, figsize=(8, 6), logy=True)\n",
      "\n",
      "#%% \n",
      "\n",
      "PNNLdata.plot(kind='line', y=620, figsize=(8, 6), logy=True)\n",
      "\n",
      "#%% \n",
      "\n",
      "PNNLdata.plot(kind='line', y=640, figsize=(8, 6), logy=True)\n",
      "\n",
      "#%% \n",
      "\n",
      "PNNLdata.plot(kind='line', y=660, figsize=(8, 6), logy=True)\n",
      "\n",
      "#%% \n",
      "\n",
      "PNNLdata.plot(kind='line', y=680, figsize=(8, 6), logy=True)\n",
      "\n",
      "#%% \n",
      "\n",
      "PNNLdata.plot(kind='line', y=700, figsize=(8, 6), logy=True)\n",
      "\n",
      "#%% \n",
      "\n",
      "PNNLdata.plot(kind='line', y=720, figsize=(8, 6), logy=True)\n",
      "\n",
      "#%% \n",
      "\n",
      "PNNLdata.plot(kind='line', y=740, figsize=(8, 6), logy=True)\n",
      "\n",
      "#%% \n",
      "\n",
      "PNNLdata.plot(kind='line', y=760, figsize=(8, 6), logy=True)\n",
      "\n",
      "#%% \n",
      "\n",
      "PNNLdata.plot(kind='line', y=780, figsize=(8, 6), logy=True)\n",
      "\n",
      "#%% \n",
      "\n",
      "PNNLdata.plot(kind='line', y=800, figsize=(8, 6), logy=True)\n",
      "\n",
      "#%% \n",
      "\n",
      "PNNLdata.plot(kind='line', y=820, figsize=(8, 6), logy=True)\n",
      "\n",
      "#%% \n",
      "\n",
      "PNNLdata.plot(kind='line', y=840, figsize=(8, 6), logy=True)\n",
      "\n",
      "#%% \n",
      "\n",
      "PNNLdata.plot(kind='line', y=860, figsize=(8, 6), logy=True)\n",
      "\n",
      "#%% \n",
      "\n",
      "PNNLdata.plot(kind='line', y=880, figsize=(8, 6), logy=True)\n",
      "\n",
      "#%% \n",
      "\n",
      "PNNLdata.plot(kind='line', y=900, figsize=(8, 6), logy=True)\n",
      "\n",
      "#%% \n",
      "\n",
      "PNNLdata.plot(kind='line', y=920, figsize=(8, 6), logy=True)\n",
      "\n",
      "#%% \n",
      "\n",
      "PNNLdata.plot(kind='line', y=940, figsize=(8, 6), logy=True)\n",
      "\n",
      "#%% \n",
      "\n",
      "PNNLdata.plot(kind='line', y=960, figsize=(8, 6), logy=True)\n",
      "\n",
      "#%% \n",
      "\n",
      "PNNLdata.plot(kind='line', y=980, figsize=(8, 6), logy=True)\n",
      "\n",
      "#%% \n",
      "\n",
      "PNNLdata.plot(kind='line', y=1000, figsize=(8, 6), logy=True)\n",
      "\n",
      "#%% \n",
      "\n",
      "PNNLdata.plot(kind='line', y=1020, figsize=(8, 6), logy=True)\n",
      "\n",
      "#%% \n",
      "\n",
      "PNNLdata.plot(kind='line', y=1040, figsize=(8, 6), logy=True)\n",
      "\n",
      "#%% \n",
      "\n",
      "PNNLdata.plot(kind='line', y=1060, figsize=(8, 6), logy=True)\n",
      "\n",
      "#%% \n",
      "\n",
      "PNNLdata.plot(kind='line', y=1080, figsize=(8, 6), logy=True)\n",
      "\n",
      "#%% \n",
      "\n",
      "PNNLdata.plot(kind='line', y=1100, figsize=(8, 6), logy=True)\n",
      "\n",
      "#%% \n",
      "\n",
      "PNNLdata.plot(kind='line', y=1120, figsize=(8, 6), logy=True)\n",
      "\n",
      "#%% \n",
      "\n",
      "PNNLdata.plot(kind='line', y=1140, figsize=(8, 6), logy=True)\n",
      "\n",
      "#%% \n",
      "\n",
      "PNNLdata.plot(kind='line', y=1160, figsize=(8, 6), logy=True)\n",
      "\n",
      "#%% \n",
      "\n",
      "PNNLdata.plot(kind='line', y=1180, figsize=(8, 6), logy=True)\n",
      "\n",
      "#%% \n",
      "\n",
      "PNNLdata.plot(kind='line', y=1200, figsize=(8, 6), logy=True)\n",
      "\n",
      "#%% \n",
      "\n",
      "PNNLdata.plot(kind='line', y=1220, figsize=(8, 6), logy=True)\n",
      "\n",
      "#%% \n",
      "\n",
      "PNNLdata.plot(kind='line', y=1240, figsize=(8, 6), logy=True)\n",
      "\n",
      "#%% \n",
      "\n",
      "PNNLdata.plot(kind='line', y=1260, figsize=(8, 6), logy=True)\n",
      "\n",
      "#%% \n",
      "\n",
      "PNNLdata.plot(kind='line', y=1280, figsize=(8, 6), logy=True)\n",
      "\n",
      "#%% \n",
      "\n",
      "PNNLdata.plot(kind='line', y=1300, figsize=(8, 6), logy=True)\n",
      "\n",
      "#%% \n",
      "\n",
      "PNNLdata.plot(kind='line', y=1320, figsize=(8, 6), logy=True)\n",
      "\n",
      "#%% \n",
      "\n",
      "PNNLdata.plot(kind='line', y=1340, figsize=(8, 6), logy=True)\n",
      "\n",
      "#%% \n",
      "\n",
      "PNNLdata.plot(kind='line', y=1360, figsize=(8, 6), logy=True)\n",
      "\n",
      "#%% \n",
      "\n",
      "PNNLdata.plot(kind='line', y=1380, figsize=(8, 6), logy=True)\n",
      "\n",
      "#%% \n",
      "\n",
      "PNNLdata.plot(kind='line', y=1400, figsize=(8, 6), logy=True)\n",
      "\n",
      "#%% \n",
      "\n",
      "PNNLdata.plot(kind='line', y=1420, figsize=(8, 6), logy=True)\n",
      "\n",
      "#%% \n",
      "\n",
      "PNNLdata.plot(kind='line', y=1440, figsize=(8, 6), logy=True)\n",
      "\n",
      "#%% \n",
      "\n",
      "PNNLdata.plot(kind='line', y=1460, figsize=(8, 6), logy=True)\n",
      "\n",
      "#%% \n",
      "\n",
      "PNNLdata.plot(kind='line', y=1480, figsize=(8, 6), logy=True)\n",
      "\n",
      "#%% \n",
      "\n",
      "PNNLdata.plot(kind='line', y=1500, figsize=(8, 6), logy=True)\n",
      "\n",
      "#%% \n",
      "\n",
      "PNNLdata.plot(kind='line', y=1520, figsize=(8, 6), logy=True)\n",
      "\n",
      "#%% \n",
      "\n",
      "PNNLdata.plot(kind='line', y=1540, figsize=(8, 6), logy=True)\n",
      "\n",
      "#%% \n",
      "\n",
      "PNNLdata.plot(kind='line', y=1560, figsize=(8, 6), logy=True)\n",
      "\n",
      "#%% \n",
      "\n",
      "PNNLdata.plot(kind='line', y=1580, figsize=(8, 6), logy=True)\n",
      "\n",
      "#%% \n",
      "\n",
      "PNNLdata.plot(kind='line', y=1600, figsize=(8, 6), logy=True)\n",
      "\n",
      "#%% \n",
      "\n",
      "PNNLdata.plot(kind='line', y=1620, figsize=(8, 6), logy=True)\n",
      "\n",
      "#%% \n",
      "\n",
      "PNNLdata.plot(kind='line', y=1640, figsize=(8, 6), logy=True)\n",
      "\n",
      "#%% \n",
      "\n",
      "PNNLdata.plot(kind='line', y=1660, figsize=(8, 6), logy=True)\n",
      "\n",
      "#%% \n",
      "\n",
      "PNNLdata.plot(kind='line', y=1680, figsize=(8, 6), logy=True)\n",
      "\n",
      "#%% \n",
      "\n",
      "PNNLdata.plot(kind='line', y=1700, figsize=(8, 6), logy=True)\n",
      "\n",
      "#%% \n",
      "\n",
      "PNNLdata.plot(kind='line', y=1720, figsize=(8, 6), logy=True)\n",
      "\n",
      "#%% \n",
      "\n",
      "PNNLdata.plot(kind='line', y=1740, figsize=(8, 6), logy=True)\n",
      "\n",
      "#%% \n",
      "\n",
      "PNNLdata.plot(kind='line', y=1760, figsize=(8, 6), logy=True)\n",
      "\n"
     ],
     "output_type": "stream"
    }
   ],
   "source": [
    "for i in range(89):\n",
    "    print(f\"#%% \\n\\nPNNLdata.plot(kind='line', y={20*i}, figsize=(8, 6), logy=True)\\n\")"
   ],
   "metadata": {
    "collapsed": false,
    "pycharm": {
     "name": "#%%\n",
     "is_executing": false
    }
   }
  }
 ],
 "metadata": {
  "kernelspec": {
   "display_name": "Python 3",
   "language": "python",
   "name": "python3"
  },
  "language_info": {
   "codemirror_mode": {
    "name": "ipython",
    "version": 2
   },
   "file_extension": ".py",
   "mimetype": "text/x-python",
   "name": "python",
   "nbconvert_exporter": "python",
   "pygments_lexer": "ipython2",
   "version": "2.7.6"
  },
  "pycharm": {
   "stem_cell": {
    "cell_type": "raw",
    "source": [],
    "metadata": {
     "collapsed": false
    }
   }
  }
 },
 "nbformat": 4,
 "nbformat_minor": 0
}