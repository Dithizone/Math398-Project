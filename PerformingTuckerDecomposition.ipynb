{
 "cells": [
  {
   "cell_type": "markdown",
   "source": [
    "# Tucker Decomposition"
   ],
   "metadata": {
    "collapsed": false,
    "pycharm": {
     "name": "#%% md\n"
    }
   }
  },
  {
   "cell_type": "code",
   "execution_count": 74,
   "metadata": {
    "collapsed": true
   },
   "outputs": [],
   "source": [
    "import numpy as np\n",
    "import pandas as pd\n",
    "import matplotlib.pyplot as plt\n",
    "from tensorly.decomposition import tucker\n",
    "import ThingsWeDoALot as th\n",
    "\n",
    "Box1List = []\n",
    "Box2List = []\n",
    "Box3List = []\n",
    "Box4List = []\n",
    "\n",
    "SpectraMatrixRows = open('data files/SpectraMatrix.csv', 'r').read().split(sep='\\n')\n",
    "for row in SpectraMatrixRows:\n",
    "    entry = row.split(sep=',')\n",
    "    for i in range(441):\n",
    "        column = i * 4\n",
    "        Box1List.append(float(entry[column]))\n",
    "        Box2List.append(float(entry[column + 1]))\n",
    "        Box3List.append(float(entry[column + 2]))\n",
    "        Box4List.append(float(entry[column + 3]))\n",
    "\n",
    "# Creating AllBoxes, which is a huge list of all SpectraMatrix data for easy tensor creation\n",
    "AllBoxes = Box1List + Box2List + Box3List + Box4List\n",
    "\n",
    "theTensor = np.array(AllBoxes).reshape((4, 200, 441))  # The tensor, in the proper shape, that we hope to do CPT on"
   ]
  },
  {
   "cell_type": "markdown",
   "source": [
    "## Creating the Tucker Decomposition\n",
    "\n",
    "Upon doing ```tensorly.decomposition.tucker()``` on our\n",
    "tensor, it returns an object with two arrays. The first is a (4, 4, 4) array which seems\n",
    "to be equivalent to the weights from CPT; the second, 3 matrices\n",
    "which seem analogous to the factors from CPT, with the same\n",
    "dimensions."
   ],
   "metadata": {
    "collapsed": false
   }
  },
  {
   "cell_type": "code",
   "execution_count": 75,
   "outputs": [
    {
     "name": "stderr",
     "output_type": "stream",
     "text": [
      "c:\\users\\xenof\\appdata\\local\\programs\\python\\python37\\lib\\site-packages\\tensorly\\decomposition\\_tucker.py:63: Warning: Given only one int for 'rank' instead of a list of 3 modes. Using this rank for all modes.\n",
      "  warnings.warn(message, Warning)\n"
     ]
    },
    {
     "ename": "MemoryError",
     "evalue": "Unable to allocate 58.0 GiB for an array with shape (88200, 88200) and data type float64",
     "output_type": "error",
     "traceback": [
      "\u001B[1;31m---------------------------------------------------------------------------\u001B[0m",
      "\u001B[1;31mMemoryError\u001B[0m                               Traceback (most recent call last)",
      "\u001B[1;32m<ipython-input-75-9d8537bb17e7>\u001B[0m in \u001B[0;36m<module>\u001B[1;34m\u001B[0m\n\u001B[0;32m      1\u001B[0m \u001B[0mtensorrank\u001B[0m \u001B[1;33m=\u001B[0m \u001B[1;36m5\u001B[0m  \u001B[1;31m# Note: a value larger than 4 requires 58 Gb of memory\u001B[0m\u001B[1;33m\u001B[0m\u001B[1;33m\u001B[0m\u001B[0m\n\u001B[0;32m      2\u001B[0m \u001B[1;33m\u001B[0m\u001B[0m\n\u001B[1;32m----> 3\u001B[1;33m \u001B[0mtheCPT\u001B[0m \u001B[1;33m=\u001B[0m \u001B[0mtucker\u001B[0m\u001B[1;33m(\u001B[0m\u001B[0mtheTensor\u001B[0m\u001B[1;33m,\u001B[0m \u001B[0mrank\u001B[0m\u001B[1;33m=\u001B[0m\u001B[0mtensorrank\u001B[0m\u001B[1;33m)\u001B[0m\u001B[1;33m\u001B[0m\u001B[1;33m\u001B[0m\u001B[0m\n\u001B[0m\u001B[0;32m      4\u001B[0m \u001B[0mprint\u001B[0m\u001B[1;33m(\u001B[0m\u001B[1;34mf'Object has length {len(theCPT)}'\u001B[0m\u001B[1;33m)\u001B[0m\u001B[1;33m\u001B[0m\u001B[1;33m\u001B[0m\u001B[0m\n\u001B[0;32m      5\u001B[0m \u001B[1;33m\u001B[0m\u001B[0m\n",
      "\u001B[1;32mc:\\users\\xenof\\appdata\\local\\programs\\python\\python37\\lib\\site-packages\\tensorly\\decomposition\\_tucker.py\u001B[0m in \u001B[0;36mtucker\u001B[1;34m(tensor, rank, ranks, n_iter_max, init, svd, tol, random_state, verbose)\u001B[0m\n\u001B[0;32m    152\u001B[0m     \u001B[0mmodes\u001B[0m \u001B[1;33m=\u001B[0m \u001B[0mlist\u001B[0m\u001B[1;33m(\u001B[0m\u001B[0mrange\u001B[0m\u001B[1;33m(\u001B[0m\u001B[0mtl\u001B[0m\u001B[1;33m.\u001B[0m\u001B[0mndim\u001B[0m\u001B[1;33m(\u001B[0m\u001B[0mtensor\u001B[0m\u001B[1;33m)\u001B[0m\u001B[1;33m)\u001B[0m\u001B[1;33m)\u001B[0m\u001B[1;33m\u001B[0m\u001B[1;33m\u001B[0m\u001B[0m\n\u001B[0;32m    153\u001B[0m     return partial_tucker(tensor, modes, rank=rank, ranks=ranks, n_iter_max=n_iter_max, init=init,\n\u001B[1;32m--> 154\u001B[1;33m                           svd=svd, tol=tol, random_state=random_state, verbose=verbose)\n\u001B[0m\u001B[0;32m    155\u001B[0m \u001B[1;33m\u001B[0m\u001B[0m\n\u001B[0;32m    156\u001B[0m \u001B[1;33m\u001B[0m\u001B[0m\n",
      "\u001B[1;32mc:\\users\\xenof\\appdata\\local\\programs\\python\\python37\\lib\\site-packages\\tensorly\\decomposition\\_tucker.py\u001B[0m in \u001B[0;36mpartial_tucker\u001B[1;34m(tensor, modes, rank, n_iter_max, init, tol, svd, random_state, verbose, ranks)\u001B[0m\n\u001B[0;32m     75\u001B[0m         \u001B[0mfactors\u001B[0m \u001B[1;33m=\u001B[0m \u001B[1;33m[\u001B[0m\u001B[1;33m]\u001B[0m\u001B[1;33m\u001B[0m\u001B[1;33m\u001B[0m\u001B[0m\n\u001B[0;32m     76\u001B[0m         \u001B[1;32mfor\u001B[0m \u001B[0mindex\u001B[0m\u001B[1;33m,\u001B[0m \u001B[0mmode\u001B[0m \u001B[1;32min\u001B[0m \u001B[0menumerate\u001B[0m\u001B[1;33m(\u001B[0m\u001B[0mmodes\u001B[0m\u001B[1;33m)\u001B[0m\u001B[1;33m:\u001B[0m\u001B[1;33m\u001B[0m\u001B[1;33m\u001B[0m\u001B[0m\n\u001B[1;32m---> 77\u001B[1;33m             \u001B[0meigenvecs\u001B[0m\u001B[1;33m,\u001B[0m \u001B[0m_\u001B[0m\u001B[1;33m,\u001B[0m \u001B[0m_\u001B[0m \u001B[1;33m=\u001B[0m \u001B[0msvd_fun\u001B[0m\u001B[1;33m(\u001B[0m\u001B[0munfold\u001B[0m\u001B[1;33m(\u001B[0m\u001B[0mtensor\u001B[0m\u001B[1;33m,\u001B[0m \u001B[0mmode\u001B[0m\u001B[1;33m)\u001B[0m\u001B[1;33m,\u001B[0m \u001B[0mn_eigenvecs\u001B[0m\u001B[1;33m=\u001B[0m\u001B[0mrank\u001B[0m\u001B[1;33m[\u001B[0m\u001B[0mindex\u001B[0m\u001B[1;33m]\u001B[0m\u001B[1;33m,\u001B[0m \u001B[0mrandom_state\u001B[0m\u001B[1;33m=\u001B[0m\u001B[0mrandom_state\u001B[0m\u001B[1;33m)\u001B[0m\u001B[1;33m\u001B[0m\u001B[1;33m\u001B[0m\u001B[0m\n\u001B[0m\u001B[0;32m     78\u001B[0m             \u001B[0mfactors\u001B[0m\u001B[1;33m.\u001B[0m\u001B[0mappend\u001B[0m\u001B[1;33m(\u001B[0m\u001B[0meigenvecs\u001B[0m\u001B[1;33m)\u001B[0m\u001B[1;33m\u001B[0m\u001B[1;33m\u001B[0m\u001B[0m\n\u001B[0;32m     79\u001B[0m     \u001B[1;32melse\u001B[0m\u001B[1;33m:\u001B[0m\u001B[1;33m\u001B[0m\u001B[1;33m\u001B[0m\u001B[0m\n",
      "\u001B[1;32mc:\\users\\xenof\\appdata\\local\\programs\\python\\python37\\lib\\site-packages\\tensorly\\backend\\core.py\u001B[0m in \u001B[0;36mpartial_svd\u001B[1;34m(self, matrix, n_eigenvecs, random_state, **kwargs)\u001B[0m\n\u001B[0;32m    698\u001B[0m             \u001B[1;32melse\u001B[0m\u001B[1;33m:\u001B[0m\u001B[1;33m\u001B[0m\u001B[1;33m\u001B[0m\u001B[0m\n\u001B[0;32m    699\u001B[0m                 \u001B[0mfull_matrices\u001B[0m\u001B[1;33m=\u001B[0m\u001B[1;32mFalse\u001B[0m\u001B[1;33m\u001B[0m\u001B[1;33m\u001B[0m\u001B[0m\n\u001B[1;32m--> 700\u001B[1;33m             \u001B[0mU\u001B[0m\u001B[1;33m,\u001B[0m \u001B[0mS\u001B[0m\u001B[1;33m,\u001B[0m \u001B[0mV\u001B[0m \u001B[1;33m=\u001B[0m \u001B[0mscipy\u001B[0m\u001B[1;33m.\u001B[0m\u001B[0mlinalg\u001B[0m\u001B[1;33m.\u001B[0m\u001B[0msvd\u001B[0m\u001B[1;33m(\u001B[0m\u001B[0mmatrix\u001B[0m\u001B[1;33m,\u001B[0m \u001B[0mfull_matrices\u001B[0m\u001B[1;33m=\u001B[0m\u001B[0mfull_matrices\u001B[0m\u001B[1;33m)\u001B[0m\u001B[1;33m\u001B[0m\u001B[1;33m\u001B[0m\u001B[0m\n\u001B[0m\u001B[0;32m    701\u001B[0m             \u001B[0mU\u001B[0m\u001B[1;33m,\u001B[0m \u001B[0mS\u001B[0m\u001B[1;33m,\u001B[0m \u001B[0mV\u001B[0m \u001B[1;33m=\u001B[0m \u001B[0mU\u001B[0m\u001B[1;33m[\u001B[0m\u001B[1;33m:\u001B[0m\u001B[1;33m,\u001B[0m \u001B[1;33m:\u001B[0m\u001B[0mn_eigenvecs\u001B[0m\u001B[1;33m]\u001B[0m\u001B[1;33m,\u001B[0m \u001B[0mS\u001B[0m\u001B[1;33m[\u001B[0m\u001B[1;33m:\u001B[0m\u001B[0mn_eigenvecs\u001B[0m\u001B[1;33m]\u001B[0m\u001B[1;33m,\u001B[0m \u001B[0mV\u001B[0m\u001B[1;33m[\u001B[0m\u001B[1;33m:\u001B[0m\u001B[0mn_eigenvecs\u001B[0m\u001B[1;33m,\u001B[0m \u001B[1;33m:\u001B[0m\u001B[1;33m]\u001B[0m\u001B[1;33m\u001B[0m\u001B[1;33m\u001B[0m\u001B[0m\n\u001B[0;32m    702\u001B[0m         \u001B[1;32melse\u001B[0m\u001B[1;33m:\u001B[0m\u001B[1;33m\u001B[0m\u001B[1;33m\u001B[0m\u001B[0m\n",
      "\u001B[1;32mc:\\users\\xenof\\appdata\\local\\programs\\python\\python37\\lib\\site-packages\\scipy\\linalg\\decomp_svd.py\u001B[0m in \u001B[0;36msvd\u001B[1;34m(a, full_matrices, compute_uv, overwrite_a, check_finite, lapack_driver)\u001B[0m\n\u001B[0;32m    127\u001B[0m     \u001B[1;31m# perform decomposition\u001B[0m\u001B[1;33m\u001B[0m\u001B[1;33m\u001B[0m\u001B[1;33m\u001B[0m\u001B[0m\n\u001B[0;32m    128\u001B[0m     u, s, v, info = gesXd(a1, compute_uv=compute_uv, lwork=lwork,\n\u001B[1;32m--> 129\u001B[1;33m                           full_matrices=full_matrices, overwrite_a=overwrite_a)\n\u001B[0m\u001B[0;32m    130\u001B[0m \u001B[1;33m\u001B[0m\u001B[0m\n\u001B[0;32m    131\u001B[0m     \u001B[1;32mif\u001B[0m \u001B[0minfo\u001B[0m \u001B[1;33m>\u001B[0m \u001B[1;36m0\u001B[0m\u001B[1;33m:\u001B[0m\u001B[1;33m\u001B[0m\u001B[1;33m\u001B[0m\u001B[0m\n",
      "\u001B[1;31mMemoryError\u001B[0m: Unable to allocate 58.0 GiB for an array with shape (88200, 88200) and data type float64"
     ]
    }
   ],
   "source": [
    "tensorrank = 4  # Note: a value larger than 4 requires 58 Gb of memory\n",
    "\n",
    "theCPT = tucker(theTensor, rank=tensorrank)\n",
    "print(f'Object has length {len(theCPT)}')"
   ],
   "metadata": {
    "collapsed": false,
    "pycharm": {
     "name": "#%%\n"
    }
   }
  },
  {
   "cell_type": "markdown",
   "source": [
    "What follows is an attempt to burrow into the\n",
    "arrays to determine what they're\n",
    "composed of.\n",
    "\n",
    "We proceed with ```rank=4```.\n",
    "\n",
    "### First, the first array:"
   ],
   "metadata": {
    "collapsed": false
   }
  },
  {
   "cell_type": "code",
   "execution_count": null,
   "outputs": [],
   "source": [
    "array1 = theCPT[0]\n",
    "print(f'array1 is a {type(array1)}')\n",
    "print(f'array1 is {array1.size} entries long with dimensions: {array1.shape}')\n",
    "\n",
    "for i in range(len(array1)):\n",
    "    print(f'Slice {i + 1} is {array1[i]}, a {type(array1[i])}')"
   ],
   "metadata": {
    "collapsed": false,
    "pycharm": {
     "name": "#%%\n"
    }
   }
  },
  {
   "cell_type": "markdown",
   "source": [
    "### Now, the factors:"
   ],
   "metadata": {
    "collapsed": false
   }
  },
  {
   "cell_type": "code",
   "execution_count": null,
   "outputs": [],
   "source": [
    "array2 = theCPT[1]\n",
    "print(f'array2 is a {type(array2)}')\n",
    "print(f'array2 is {len(array2)} long. Let\\'s call these \"factors.\"')\n",
    "factor1 = array2[0]\n",
    "factor2 = array2[1]\n",
    "factor3 = array2[2]\n",
    "\n",
    "print(f'Factor 1 dimensions: {factor1.shape}')\n",
    "print(f'Factor 2 dimensions: {factor2.shape}')\n",
    "print(f'Factor 3 dimensions: {factor3.shape}')"
   ],
   "metadata": {
    "collapsed": false,
    "pycharm": {
     "name": "#%%\n"
    }
   }
  },
  {
   "cell_type": "markdown",
   "source": [
    "## Exploring the Factors\n",
    "\n",
    "Clearly factor 1 describes the boxes; factor 2, the photon\n",
    "energies; and factor 3, the sensors. We know this because\n",
    "the row lengths are 4, 200, and 441, respectively.\n",
    "\n",
    "But what do each of these factors *look* like?"
   ],
   "metadata": {
    "collapsed": false
   }
  },
  {
   "cell_type": "markdown",
   "source": [
    "### Factor 1\n",
    "\n",
    "Each column in factor 1, when graphed, looks like:"
   ],
   "metadata": {
    "collapsed": false
   }
  },
  {
   "cell_type": "code",
   "execution_count": null,
   "outputs": [],
   "source": [
    "# Creating a dataframe of factor 1 with an x-axis of Box labels.\n",
    "initialfactor1dataframe = pd.DataFrame(data=factor1)\n",
    "# factor1dataframeXAxis = pd.DataFrame(data={'labels': ['Box 1', 'Box 2', 'Box 3', 'Box 4']})\n",
    "# factor1dataframe = pd.concat((initialfactor1dataframe, factor1dataframeXAxis),\n",
    "#                              axis=1)\\\n",
    "#                      .set_index('labels')\n",
    "\n",
    "plt.figure(figsize=(8, 6))\n",
    "for j in range(tensorrank):\n",
    "    plt.plot(initialfactor1dataframe.iloc[:, j],\n",
    "             label=f'Column {j + 1}')\n",
    "\n",
    "plt.title(label='Line Plot of Factor 1 Columns', fontsize=15)\n",
    "plt.legend()\n",
    "plt.xticks(ticks=[0, 1, 2, 3])\n",
    "plt.ylabel('Value After Decomposition')\n",
    "# th.saveThisGraph('images/CPT images/Factor1.png')"
   ],
   "metadata": {
    "collapsed": false,
    "pycharm": {
     "name": "#%%\n"
    }
   }
  },
  {
   "cell_type": "markdown",
   "source": [
    "### Factor 2\n",
    "\n",
    "Each column in factor 2, when graphed, looks like this:"
   ],
   "metadata": {
    "collapsed": false
   }
  },
  {
   "cell_type": "code",
   "execution_count": null,
   "outputs": [],
   "source": [
    "initialfactor2dataframe = pd.DataFrame(data=factor2)\n",
    "factor2dataframe = th.attachXAxis(dataframe=initialfactor2dataframe)\n",
    "\n",
    "plt.figure(figsize=(8, 6))\n",
    "for k in range(tensorrank):\n",
    "    plt.plot(factor2dataframe.iloc[:, k], label=f'Column {k + 1}')\n",
    "\n",
    "plt.title(label='Line Plot of Factor 2 Columns', fontsize=15)\n",
    "plt.legend()\n",
    "plt.xlabel('Photon Energy (MeV)')\n",
    "plt.ylabel('Value After Decomposition')\n",
    "# th.saveThisGraph('images/CPT images/Factor2.png')"
   ],
   "metadata": {
    "collapsed": false,
    "pycharm": {
     "name": "#%%\n"
    }
   }
  },
  {
   "cell_type": "markdown",
   "source": [
    "### Factor 3\n",
    "\n",
    "Each column in factor 3, when graphed, looks like this:"
   ],
   "metadata": {
    "collapsed": false
   }
  },
  {
   "cell_type": "code",
   "execution_count": null,
   "outputs": [],
   "source": [
    "factor3dataframe = pd.DataFrame(data=factor3)\n",
    "\n",
    "plt.figure(figsize=(8, 6))\n",
    "for m in range(tensorrank):\n",
    "    plt.plot(factor3dataframe.iloc[:, m], label=f'Column {m + 1}')\n",
    "\n",
    "plt.title(label='Line Plot of Factor 3 Columns', fontsize=15)\n",
    "plt.legend()\n",
    "plt.xlabel('Sensor Number')\n",
    "plt.ylabel('Value After Decomposition')\n",
    "# th.saveThisGraph('images/CPT images/Factor3.png')\n",
    "\n",
    "# The code below plots the columns individually:\n",
    "\n",
    "# for m in range(tensorrank):\n",
    "#     th.linePlotTheThing(dataframetoplot=factor3dataframe,\n",
    "#                         columntoplot=m,\n",
    "#                         xaxislabel='Sensor Number',\n",
    "#                         yaxislabel='Value After Decomposition',\n",
    "#                         title='Line Plot of Factor 3 Columns',\n",
    "#                         figuredimensions=(8, 6))"
   ],
   "metadata": {
    "collapsed": false,
    "pycharm": {
     "name": "#%%\n"
    }
   }
  },
  {
   "cell_type": "markdown",
   "source": [
    "## Conclusions\n",
    "\n",
    "The results seem analogous to CPT, with the distinction\n",
    "that weights in tucker decomposition are a 3-way\n",
    "tensor rather than a list."
   ],
   "metadata": {
    "collapsed": false
   }
  }
 ],
 "metadata": {
  "kernelspec": {
   "display_name": "Python 3",
   "language": "python",
   "name": "python3"
  },
  "language_info": {
   "codemirror_mode": {
    "name": "ipython",
    "version": 2
   },
   "file_extension": ".py",
   "mimetype": "text/x-python",
   "name": "python",
   "nbconvert_exporter": "python",
   "pygments_lexer": "ipython2",
   "version": "2.7.6"
  }
 },
 "nbformat": 4,
 "nbformat_minor": 0
}