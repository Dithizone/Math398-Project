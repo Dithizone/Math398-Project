{
 "cells": [
  {
   "cell_type": "markdown",
   "metadata": {
    "collapsed": false,
    "pycharm": {
     "name": "#%% md\n"
    }
   },
   "source": [
    "# Principal Component Analysis\n",
    "\n",
    "## Table of Contents\n",
    "\n",
    "1. Data reduced to 10 principal components\n",
    "2. Now, let's do PCA on just Box1\n",
    "3. Now, let's do PCA on just Box2\n",
    "4. Now, let's do PCA on just Box3\n",
    "5. Now, let's do PCA on just Box4\n",
    "6. PC2 vs PC3 for all the boxes and stuff"
   ]
  },
  {
   "cell_type": "code",
   "execution_count": 6,
   "metadata": {},
   "outputs": [
    {
     "name": "stdout",
     "output_type": "stream",
     "text": "libraries imported.\n"
    }
   ],
   "source": [
    "import pandas as pd\n",
    "import numpy as np\n",
    "from sklearn.decomposition import PCA\n",
    "from sklearn import preprocessing\n",
    "import matplotlib.pyplot as plt\n",
    "from sklearn.preprocessing import StandardScaler\n",
    "\n",
    "print('libraries imported.')"
   ]
  },
  {
   "cell_type": "code",
   "execution_count": 7,
   "metadata": {},
   "outputs": [
    {
     "name": "stdout",
     "output_type": "stream",
     "text": "<class 'pandas.core.frame.DataFrame'>\nRangeIndex: 200 entries, 0 to 199\nColumns: 1764 entries, 0 to 1763\ndtypes: float64(1764)\nmemory usage: 2.7 MB\n"
    }
   ],
   "source": [
    "SpectraMatrix = pd.read_csv(\"data files/SpectraMatrix.csv\", header=None, index_col=None)\n",
    "SpectraMatrix.info()"
   ]
  },
  {
   "cell_type": "markdown",
   "metadata": {
    "collapsed": false,
    "pycharm": {
     "name": "#%% md\n"
    }
   },
   "source": [
    "## Data reduced to 10 principal components)\n",
    "\n",
    "The first two principal components explain 99.4% of the variance in SpectraMatrix.csv, and by PC4 we have 99.9%.\n",
    "\n",
    "Below are the first 5 rows of the post-PCA data, then graphs of each principal component."
   ]
  },
  {
   "cell_type": "code",
   "execution_count": 296,
   "metadata": {},
   "outputs": [
    {
     "data": {
      "text/html": "<div>\n<style scoped>\n    .dataframe tbody tr th:only-of-type {\n        vertical-align: middle;\n    }\n\n    .dataframe tbody tr th {\n        vertical-align: top;\n    }\n\n    .dataframe thead th {\n        text-align: right;\n    }\n</style>\n<table border=\"1\" class=\"dataframe\">\n  <thead>\n    <tr style=\"text-align: right;\">\n      <th></th>\n      <th>0</th>\n      <th>1</th>\n      <th>2</th>\n      <th>3</th>\n      <th>4</th>\n      <th>5</th>\n      <th>6</th>\n      <th>7</th>\n      <th>8</th>\n      <th>9</th>\n    </tr>\n  </thead>\n  <tbody>\n    <tr>\n      <td>0</td>\n      <td>40.244181</td>\n      <td>-2.635071</td>\n      <td>0.563362</td>\n      <td>0.625562</td>\n      <td>-0.315668</td>\n      <td>0.421927</td>\n      <td>-0.149790</td>\n      <td>-0.087685</td>\n      <td>-0.024582</td>\n      <td>0.049070</td>\n    </tr>\n    <tr>\n      <td>1</td>\n      <td>67.157649</td>\n      <td>0.123512</td>\n      <td>0.713370</td>\n      <td>0.702911</td>\n      <td>-0.153722</td>\n      <td>0.463976</td>\n      <td>-0.028142</td>\n      <td>0.057623</td>\n      <td>-0.249628</td>\n      <td>-0.035263</td>\n    </tr>\n    <tr>\n      <td>2</td>\n      <td>329.324655</td>\n      <td>34.213086</td>\n      <td>5.162386</td>\n      <td>3.862020</td>\n      <td>1.248238</td>\n      <td>2.974066</td>\n      <td>-0.085496</td>\n      <td>0.902908</td>\n      <td>-0.094374</td>\n      <td>0.463961</td>\n    </tr>\n    <tr>\n      <td>3</td>\n      <td>124.794950</td>\n      <td>5.892644</td>\n      <td>1.602274</td>\n      <td>1.261620</td>\n      <td>0.311693</td>\n      <td>0.925118</td>\n      <td>0.189469</td>\n      <td>0.089842</td>\n      <td>-0.136498</td>\n      <td>-0.158184</td>\n    </tr>\n    <tr>\n      <td>4</td>\n      <td>134.848243</td>\n      <td>5.060522</td>\n      <td>1.615122</td>\n      <td>1.221953</td>\n      <td>0.501468</td>\n      <td>0.910016</td>\n      <td>0.364821</td>\n      <td>0.025306</td>\n      <td>0.031338</td>\n      <td>-0.388200</td>\n    </tr>\n  </tbody>\n</table>\n</div>",
      "text/plain": "            0          1         2         3         4         5         6  \\\n0   40.244181  -2.635071  0.563362  0.625562 -0.315668  0.421927 -0.149790   \n1   67.157649   0.123512  0.713370  0.702911 -0.153722  0.463976 -0.028142   \n2  329.324655  34.213086  5.162386  3.862020  1.248238  2.974066 -0.085496   \n3  124.794950   5.892644  1.602274  1.261620  0.311693  0.925118  0.189469   \n4  134.848243   5.060522  1.615122  1.221953  0.501468  0.910016  0.364821   \n\n          7         8         9  \n0 -0.087685 -0.024582  0.049070  \n1  0.057623 -0.249628 -0.035263  \n2  0.902908 -0.094374  0.463961  \n3  0.089842 -0.136498 -0.158184  \n4  0.025306  0.031338 -0.388200  "
     },
     "execution_count": 296,
     "metadata": {},
     "output_type": "execute_result"
    }
   ],
   "source": [
    "# transposedSpectraMatrix = SpectraMatrix.transpose()\n",
    "\n",
    "x = StandardScaler().fit_transform(SpectraMatrix.loc[:, :].values)\n",
    "\n",
    "pca = PCA(n_components=10).fit(x)\n",
    "principalComponents = pca.fit_transform(x)\n",
    "principalDataframe = pd.DataFrame(data=principalComponents)\n",
    "principalDataframe.head()"
   ]
  },
  {
   "cell_type": "code",
   "execution_count": 297,
   "metadata": {},
   "outputs": [
    {
     "name": "stdout",
     "output_type": "stream",
     "text": "PC1 explained variance: 96.8147748427829\nPC2 explained variance: 99.49958976661652\nPC3 explained variance: 99.7088773378074\nPC4 explained variance: 99.89726837212089\nPC5 explained variance: 99.96580547389539\nPC6 explained variance: 99.97899593893614\nPC7 explained variance: 99.9852069215828\nPC8 explained variance: 99.98817202599466\nPC9 explained variance: 99.98935918261864\nPC10 explained variance: 99.99018390376276\n"
    }
   ],
   "source": [
    "j = 0\n",
    "for i in pca.explained_variance_ratio_.cumsum():\n",
    "    j += 1\n",
    "    print(f\"PC{j} explained variance: {i*100}\")"
   ]
  },
  {
   "cell_type": "code",
   "execution_count": null,
   "metadata": {},
   "outputs": [],
   "source": [
    "ScaledBox1 = StandardScaler().fit_transform(Box1.loc[:, :].values)\n",
    "\n",
    "Box1pca = PCA(n_components=5).fit(ScaledBox1)\n",
    "Box1principalComponents = Box1pca.fit_transform(ScaledBox1)\n",
    "Box1principalDataframe = pd.DataFrame(data=Box1principalComponents)\n",
    "Box1principalDataframe.head()"
   ]
  },
  {
   "cell_type": "code",
   "execution_count": null,
   "metadata": {},
   "outputs": [],
   "source": [
    "k = 0\n",
    "for l in Box1pca.explained_variance_ratio_.cumsum():\n",
    "    k += 1\n",
    "    print(f\"PC{k} explained variance: {l*100}\")"
   ]
  },
  {
   "cell_type": "code",
   "execution_count": null,
   "metadata": {},
   "outputs": [],
   "source": [
    "Box1principalDataframe.plot(kind=\"line\", y=0, figsize=(8, 6))"
   ]
  },
  {
   "cell_type": "code",
   "execution_count": null,
   "metadata": {},
   "outputs": [],
   "source": [
    "Box1principalDataframe.plot(kind=\"line\", y=1, figsize=(8, 6))"
   ]
  },
  {
   "cell_type": "code",
   "execution_count": null,
   "metadata": {},
   "outputs": [],
   "source": [
    "Box1principalDataframe.plot(kind=\"line\", y=2, figsize=(8, 6))"
   ]
  },
  {
   "cell_type": "markdown",
   "metadata": {
    "collapsed": false
   },
   "source": [
    "### Now, let's do PCA on just Box2"
   ]
  },
  {
   "cell_type": "code",
   "execution_count": null,
   "metadata": {},
   "outputs": [],
   "source": [
    "Box2 = pd.read_csv(\"data files/Box2.csv\", header=None, index_col=None)\n",
    "del Box2[441]\n",
    "Box2.info()"
   ]
  },
  {
   "cell_type": "code",
   "execution_count": null,
   "metadata": {},
   "outputs": [],
   "source": [
    "ScaledBox2 = StandardScaler().fit_transform(Box2.loc[:, :].values)\n",
    "\n",
    "Box2pca = PCA(n_components=5).fit(ScaledBox2)\n",
    "Box2principalComponents = Box2pca.fit_transform(ScaledBox2)\n",
    "Box2principalDataframe = pd.DataFrame(data=Box2principalComponents)\n",
    "Box2principalDataframe.head()"
   ]
  },
  {
   "cell_type": "code",
   "execution_count": null,
   "metadata": {},
   "outputs": [],
   "source": [
    "k = 0\n",
    "for l in Box2pca.explained_variance_ratio_.cumsum():\n",
    "    k += 1\n",
    "    print(f\"PC{k} explained variance: {l*100}\")"
   ]
  },
  {
   "cell_type": "code",
   "execution_count": 276,
   "metadata": {},
   "outputs": [
    {
     "data": {
      "text/plain": "<matplotlib.axes._subplots.AxesSubplot at 0x1a31dc3110>"
     },
     "execution_count": 276,
     "metadata": {},
     "output_type": "execute_result"
    },
    {
     "data": {
      "image/png": "[encoded data removed]",
      "image/svg+xml": "<?xml version=\"1.0\" encoding=\"utf-8\" standalone=\"no\"?>\n<!DOCTYPE svg PUBLIC \"-//W3C//DTD SVG 1.1//EN\"\n  \"http://www.w3.org/Graphics/SVG/1.1/DTD/svg11.dtd\">\n<!-- Created with matplotlib (https://matplotlib.org/) -->\n<svg height=\"357.238125pt\" version=\"1.1\" viewBox=\"0 0 486.8875 357.238125\" width=\"486.8875pt\" xmlns=\"http://www.w3.org/2000/svg\" xmlns:xlink=\"http://www.w3.org/1999/xlink\">\n <defs>\n  <style type=\"text/css\">\n*{stroke-linecap:butt;stroke-linejoin:round;}\n  </style>\n </defs>\n <g id=\"figure_1\">\n  <g id=\"patch_1\">\n   <path d=\"M 0 357.238125 \nL 486.8875 357.238125 \nL 486.8875 0 \nL 0 0 \nz\n\" style=\"fill:none;\"/>\n  </g>\n  <g id=\"axes_1\">\n   <g id=\"patch_2\">\n    <path d=\"M 33.2875 333.36 \nL 479.6875 333.36 \nL 479.6875 7.2 \nL 33.2875 7.2 \nz\n\" style=\"fill:#ffffff;\"/>\n   </g>\n   <g id=\"matplotlib.axis_1\">\n    <g id=\"xtick_1\">\n     <g id=\"line2d_1\">\n      <defs>\n       <path d=\"M 0 0 \nL 0 3.5 \n\" id=\"maea05c7fc8\" style=\"stroke:#000000;stroke-width:0.8;\"/>\n      </defs>\n      <g>\n       <use style=\"stroke:#000000;stroke-width:0.8;\" x=\"33.2875\" xlink:href=\"#maea05c7fc8\" y=\"333.36\"/>\n      </g>\n     </g>\n     <g id=\"text_1\">\n      <!-- 0 -->\n      <defs>\n       <path d=\"M 31.78125 66.40625 \nQ 24.171875 66.40625 20.328125 58.90625 \nQ 16.5 51.421875 16.5 36.375 \nQ 16.5 21.390625 20.328125 13.890625 \nQ 24.171875 6.390625 31.78125 6.390625 \nQ 39.453125 6.390625 43.28125 13.890625 \nQ 47.125 21.390625 47.125 36.375 \nQ 47.125 51.421875 43.28125 58.90625 \nQ 39.453125 66.40625 31.78125 66.40625 \nz\nM 31.78125 74.21875 \nQ 44.046875 74.21875 50.515625 64.515625 \nQ 56.984375 54.828125 56.984375 36.375 \nQ 56.984375 17.96875 50.515625 8.265625 \nQ 44.046875 -1.421875 31.78125 -1.421875 \nQ 19.53125 -1.421875 13.0625 8.265625 \nQ 6.59375 17.96875 6.59375 36.375 \nQ 6.59375 54.828125 13.0625 64.515625 \nQ 19.53125 74.21875 31.78125 74.21875 \nz\n\" id=\"DejaVuSans-48\"/>\n      </defs>\n      <g transform=\"translate(30.10625 347.958438)scale(0.1 -0.1)\">\n       <use xlink:href=\"#DejaVuSans-48\"/>\n      </g>\n     </g>\n    </g>\n    <g id=\"xtick_2\">\n     <g id=\"line2d_2\">\n      <g>\n       <use style=\"stroke:#000000;stroke-width:0.8;\" x=\"89.367902\" xlink:href=\"#maea05c7fc8\" y=\"333.36\"/>\n      </g>\n     </g>\n     <g id=\"text_2\">\n      <!-- 25 -->\n      <defs>\n       <path d=\"M 19.1875 8.296875 \nL 53.609375 8.296875 \nL 53.609375 0 \nL 7.328125 0 \nL 7.328125 8.296875 \nQ 12.9375 14.109375 22.625 23.890625 \nQ 32.328125 33.6875 34.8125 36.53125 \nQ 39.546875 41.84375 41.421875 45.53125 \nQ 43.3125 49.21875 43.3125 52.78125 \nQ 43.3125 58.59375 39.234375 62.25 \nQ 35.15625 65.921875 28.609375 65.921875 \nQ 23.96875 65.921875 18.8125 64.3125 \nQ 13.671875 62.703125 7.8125 59.421875 \nL 7.8125 69.390625 \nQ 13.765625 71.78125 18.9375 73 \nQ 24.125 74.21875 28.421875 74.21875 \nQ 39.75 74.21875 46.484375 68.546875 \nQ 53.21875 62.890625 53.21875 53.421875 \nQ 53.21875 48.921875 51.53125 44.890625 \nQ 49.859375 40.875 45.40625 35.40625 \nQ 44.1875 33.984375 37.640625 27.21875 \nQ 31.109375 20.453125 19.1875 8.296875 \nz\n\" id=\"DejaVuSans-50\"/>\n       <path d=\"M 10.796875 72.90625 \nL 49.515625 72.90625 \nL 49.515625 64.59375 \nL 19.828125 64.59375 \nL 19.828125 46.734375 \nQ 21.96875 47.46875 24.109375 47.828125 \nQ 26.265625 48.1875 28.421875 48.1875 \nQ 40.625 48.1875 47.75 41.5 \nQ 54.890625 34.8125 54.890625 23.390625 \nQ 54.890625 11.625 47.5625 5.09375 \nQ 40.234375 -1.421875 26.90625 -1.421875 \nQ 22.3125 -1.421875 17.546875 -0.640625 \nQ 12.796875 0.140625 7.71875 1.703125 \nL 7.71875 11.625 \nQ 12.109375 9.234375 16.796875 8.0625 \nQ 21.484375 6.890625 26.703125 6.890625 \nQ 35.15625 6.890625 40.078125 11.328125 \nQ 45.015625 15.765625 45.015625 23.390625 \nQ 45.015625 31 40.078125 35.4375 \nQ 35.15625 39.890625 26.703125 39.890625 \nQ 22.75 39.890625 18.8125 39.015625 \nQ 14.890625 38.140625 10.796875 36.28125 \nz\n\" id=\"DejaVuSans-53\"/>\n      </defs>\n      <g transform=\"translate(83.005402 347.958438)scale(0.1 -0.1)\">\n       <use xlink:href=\"#DejaVuSans-50\"/>\n       <use x=\"63.623047\" xlink:href=\"#DejaVuSans-53\"/>\n      </g>\n     </g>\n    </g>\n    <g id=\"xtick_3\">\n     <g id=\"line2d_3\">\n      <g>\n       <use style=\"stroke:#000000;stroke-width:0.8;\" x=\"145.448304\" xlink:href=\"#maea05c7fc8\" y=\"333.36\"/>\n      </g>\n     </g>\n     <g id=\"text_3\">\n      <!-- 50 -->\n      <g transform=\"translate(139.085804 347.958438)scale(0.1 -0.1)\">\n       <use xlink:href=\"#DejaVuSans-53\"/>\n       <use x=\"63.623047\" xlink:href=\"#DejaVuSans-48\"/>\n      </g>\n     </g>\n    </g>\n    <g id=\"xtick_4\">\n     <g id=\"line2d_4\">\n      <g>\n       <use style=\"stroke:#000000;stroke-width:0.8;\" x=\"201.528706\" xlink:href=\"#maea05c7fc8\" y=\"333.36\"/>\n      </g>\n     </g>\n     <g id=\"text_4\">\n      <!-- 75 -->\n      <defs>\n       <path d=\"M 8.203125 72.90625 \nL 55.078125 72.90625 \nL 55.078125 68.703125 \nL 28.609375 0 \nL 18.3125 0 \nL 43.21875 64.59375 \nL 8.203125 64.59375 \nz\n\" id=\"DejaVuSans-55\"/>\n      </defs>\n      <g transform=\"translate(195.166206 347.958438)scale(0.1 -0.1)\">\n       <use xlink:href=\"#DejaVuSans-55\"/>\n       <use x=\"63.623047\" xlink:href=\"#DejaVuSans-53\"/>\n      </g>\n     </g>\n    </g>\n    <g id=\"xtick_5\">\n     <g id=\"line2d_5\">\n      <g>\n       <use style=\"stroke:#000000;stroke-width:0.8;\" x=\"257.609108\" xlink:href=\"#maea05c7fc8\" y=\"333.36\"/>\n      </g>\n     </g>\n     <g id=\"text_5\">\n      <!-- 100 -->\n      <defs>\n       <path d=\"M 12.40625 8.296875 \nL 28.515625 8.296875 \nL 28.515625 63.921875 \nL 10.984375 60.40625 \nL 10.984375 69.390625 \nL 28.421875 72.90625 \nL 38.28125 72.90625 \nL 38.28125 8.296875 \nL 54.390625 8.296875 \nL 54.390625 0 \nL 12.40625 0 \nz\n\" id=\"DejaVuSans-49\"/>\n      </defs>\n      <g transform=\"translate(248.065358 347.958438)scale(0.1 -0.1)\">\n       <use xlink:href=\"#DejaVuSans-49\"/>\n       <use x=\"63.623047\" xlink:href=\"#DejaVuSans-48\"/>\n       <use x=\"127.246094\" xlink:href=\"#DejaVuSans-48\"/>\n      </g>\n     </g>\n    </g>\n    <g id=\"xtick_6\">\n     <g id=\"line2d_6\">\n      <g>\n       <use style=\"stroke:#000000;stroke-width:0.8;\" x=\"313.68951\" xlink:href=\"#maea05c7fc8\" y=\"333.36\"/>\n      </g>\n     </g>\n     <g id=\"text_6\">\n      <!-- 125 -->\n      <g transform=\"translate(304.14576 347.958438)scale(0.1 -0.1)\">\n       <use xlink:href=\"#DejaVuSans-49\"/>\n       <use x=\"63.623047\" xlink:href=\"#DejaVuSans-50\"/>\n       <use x=\"127.246094\" xlink:href=\"#DejaVuSans-53\"/>\n      </g>\n     </g>\n    </g>\n    <g id=\"xtick_7\">\n     <g id=\"line2d_7\">\n      <g>\n       <use style=\"stroke:#000000;stroke-width:0.8;\" x=\"369.769912\" xlink:href=\"#maea05c7fc8\" y=\"333.36\"/>\n      </g>\n     </g>\n     <g id=\"text_7\">\n      <!-- 150 -->\n      <g transform=\"translate(360.226162 347.958438)scale(0.1 -0.1)\">\n       <use xlink:href=\"#DejaVuSans-49\"/>\n       <use x=\"63.623047\" xlink:href=\"#DejaVuSans-53\"/>\n       <use x=\"127.246094\" xlink:href=\"#DejaVuSans-48\"/>\n      </g>\n     </g>\n    </g>\n    <g id=\"xtick_8\">\n     <g id=\"line2d_8\">\n      <g>\n       <use style=\"stroke:#000000;stroke-width:0.8;\" x=\"425.850314\" xlink:href=\"#maea05c7fc8\" y=\"333.36\"/>\n      </g>\n     </g>\n     <g id=\"text_8\">\n      <!-- 175 -->\n      <g transform=\"translate(416.306564 347.958438)scale(0.1 -0.1)\">\n       <use xlink:href=\"#DejaVuSans-49\"/>\n       <use x=\"63.623047\" xlink:href=\"#DejaVuSans-55\"/>\n       <use x=\"127.246094\" xlink:href=\"#DejaVuSans-53\"/>\n      </g>\n     </g>\n    </g>\n   </g>\n   <g id=\"matplotlib.axis_2\">\n    <g id=\"ytick_1\">\n     <g id=\"line2d_9\">\n      <defs>\n       <path d=\"M 0 0 \nL -3.5 0 \n\" id=\"m5197243b7b\" style=\"stroke:#000000;stroke-width:0.8;\"/>\n      </defs>\n      <g>\n       <use style=\"stroke:#000000;stroke-width:0.8;\" x=\"33.2875\" xlink:href=\"#m5197243b7b\" y=\"304.465101\"/>\n      </g>\n     </g>\n     <g id=\"text_9\">\n      <!-- 0 -->\n      <g transform=\"translate(19.925 308.26432)scale(0.1 -0.1)\">\n       <use xlink:href=\"#DejaVuSans-48\"/>\n      </g>\n     </g>\n    </g>\n    <g id=\"ytick_2\">\n     <g id=\"line2d_10\">\n      <g>\n       <use style=\"stroke:#000000;stroke-width:0.8;\" x=\"33.2875\" xlink:href=\"#m5197243b7b\" y=\"261.33119\"/>\n      </g>\n     </g>\n     <g id=\"text_10\">\n      <!-- 25 -->\n      <g transform=\"translate(13.5625 265.130409)scale(0.1 -0.1)\">\n       <use xlink:href=\"#DejaVuSans-50\"/>\n       <use x=\"63.623047\" xlink:href=\"#DejaVuSans-53\"/>\n      </g>\n     </g>\n    </g>\n    <g id=\"ytick_3\">\n     <g id=\"line2d_11\">\n      <g>\n       <use style=\"stroke:#000000;stroke-width:0.8;\" x=\"33.2875\" xlink:href=\"#m5197243b7b\" y=\"218.197279\"/>\n      </g>\n     </g>\n     <g id=\"text_11\">\n      <!-- 50 -->\n      <g transform=\"translate(13.5625 221.996498)scale(0.1 -0.1)\">\n       <use xlink:href=\"#DejaVuSans-53\"/>\n       <use x=\"63.623047\" xlink:href=\"#DejaVuSans-48\"/>\n      </g>\n     </g>\n    </g>\n    <g id=\"ytick_4\">\n     <g id=\"line2d_12\">\n      <g>\n       <use style=\"stroke:#000000;stroke-width:0.8;\" x=\"33.2875\" xlink:href=\"#m5197243b7b\" y=\"175.063368\"/>\n      </g>\n     </g>\n     <g id=\"text_12\">\n      <!-- 75 -->\n      <g transform=\"translate(13.5625 178.862587)scale(0.1 -0.1)\">\n       <use xlink:href=\"#DejaVuSans-55\"/>\n       <use x=\"63.623047\" xlink:href=\"#DejaVuSans-53\"/>\n      </g>\n     </g>\n    </g>\n    <g id=\"ytick_5\">\n     <g id=\"line2d_13\">\n      <g>\n       <use style=\"stroke:#000000;stroke-width:0.8;\" x=\"33.2875\" xlink:href=\"#m5197243b7b\" y=\"131.929457\"/>\n      </g>\n     </g>\n     <g id=\"text_13\">\n      <!-- 100 -->\n      <g transform=\"translate(7.2 135.728676)scale(0.1 -0.1)\">\n       <use xlink:href=\"#DejaVuSans-49\"/>\n       <use x=\"63.623047\" xlink:href=\"#DejaVuSans-48\"/>\n       <use x=\"127.246094\" xlink:href=\"#DejaVuSans-48\"/>\n      </g>\n     </g>\n    </g>\n    <g id=\"ytick_6\">\n     <g id=\"line2d_14\">\n      <g>\n       <use style=\"stroke:#000000;stroke-width:0.8;\" x=\"33.2875\" xlink:href=\"#m5197243b7b\" y=\"88.795546\"/>\n      </g>\n     </g>\n     <g id=\"text_14\">\n      <!-- 125 -->\n      <g transform=\"translate(7.2 92.594765)scale(0.1 -0.1)\">\n       <use xlink:href=\"#DejaVuSans-49\"/>\n       <use x=\"63.623047\" xlink:href=\"#DejaVuSans-50\"/>\n       <use x=\"127.246094\" xlink:href=\"#DejaVuSans-53\"/>\n      </g>\n     </g>\n    </g>\n    <g id=\"ytick_7\">\n     <g id=\"line2d_15\">\n      <g>\n       <use style=\"stroke:#000000;stroke-width:0.8;\" x=\"33.2875\" xlink:href=\"#m5197243b7b\" y=\"45.661635\"/>\n      </g>\n     </g>\n     <g id=\"text_15\">\n      <!-- 150 -->\n      <g transform=\"translate(7.2 49.460854)scale(0.1 -0.1)\">\n       <use xlink:href=\"#DejaVuSans-49\"/>\n       <use x=\"63.623047\" xlink:href=\"#DejaVuSans-53\"/>\n       <use x=\"127.246094\" xlink:href=\"#DejaVuSans-48\"/>\n      </g>\n     </g>\n    </g>\n   </g>\n   <g id=\"line2d_16\">\n    <path clip-path=\"url(#p327eb74060)\" d=\"M 33.2875 269.49168 \nL 35.530716 246.793597 \nL 37.773932 25.33616 \nL 40.017148 197.923537 \nL 42.260364 189.201069 \nL 44.50358 271.499236 \nL 46.746796 280.39258 \nL 48.990013 288.621167 \nL 51.233229 271.203905 \nL 53.476445 281.560265 \nL 55.719661 279.768691 \nL 57.962877 284.894839 \nL 60.206093 287.836302 \nL 62.449309 250.711922 \nL 64.692525 287.982305 \nL 66.935741 286.007722 \nL 69.178957 267.267461 \nL 71.422173 291.526798 \nL 73.665389 292.686164 \nL 75.908606 22.025455 \nL 78.151822 295.953733 \nL 80.395038 293.806033 \nL 82.638254 276.856113 \nL 84.88147 286.744671 \nL 87.124686 298.402152 \nL 89.367902 210.549063 \nL 91.611118 300.959105 \nL 93.854334 300.65277 \nL 96.09755 287.605541 \nL 98.340766 263.44576 \nL 100.583982 182.860413 \nL 102.827198 304.343313 \nL 105.070415 304.554596 \nL 107.313631 304.616249 \nL 109.556847 302.90781 \nL 111.800063 304.876986 \nL 114.043279 299.103457 \nL 116.286495 306.204555 \nL 118.529711 306.967434 \nL 120.772927 308.866811 \nL 123.016143 309.133385 \nL 125.259359 308.385473 \nL 127.502575 300.033515 \nL 129.745791 309.154113 \nL 131.989008 308.68797 \nL 134.232224 310.467417 \nL 136.47544 310.219365 \nL 138.718656 293.786947 \nL 140.961872 310.585944 \nL 143.205088 310.470187 \nL 145.448304 310.796452 \nL 147.69152 310.577141 \nL 149.934736 309.834007 \nL 152.177952 310.735833 \nL 154.421168 262.92462 \nL 156.664384 311.877542 \nL 158.907601 312.025707 \nL 161.150817 244.67857 \nL 163.394033 312.419801 \nL 172.366897 312.587136 \nL 174.610113 310.71455 \nL 176.853329 312.762707 \nL 179.096545 312.750939 \nL 181.339761 311.870507 \nL 185.826193 313.17979 \nL 188.06941 305.343806 \nL 190.312626 313.205311 \nL 192.555842 313.843304 \nL 194.799058 312.623758 \nL 197.042274 307.95755 \nL 199.28549 313.100164 \nL 201.528706 311.662806 \nL 203.771922 310.507895 \nL 206.015138 313.667952 \nL 208.258354 314.930437 \nL 210.50157 314.069205 \nL 212.744786 312.662479 \nL 214.988003 314.114631 \nL 217.231219 315.002041 \nL 219.474435 310.854011 \nL 221.717651 314.93959 \nL 223.960867 314.862982 \nL 226.204083 314.653706 \nL 228.447299 314.303371 \nL 230.690515 292.88344 \nL 232.933731 315.4369 \nL 235.176947 312.870808 \nL 237.420163 315.392931 \nL 239.663379 315.18915 \nL 241.906595 311.267233 \nL 244.149812 303.274506 \nL 246.393028 316.037188 \nL 248.636244 316.052382 \nL 250.87946 315.408766 \nL 253.122676 316.112643 \nL 257.609108 316.034142 \nL 259.852324 316.239279 \nL 262.09554 316.026672 \nL 264.338756 316.260827 \nL 266.581972 315.964256 \nL 268.825188 315.837798 \nL 271.068405 316.070018 \nL 275.554837 316.025168 \nL 277.798053 306.2579 \nL 280.041269 316.46848 \nL 282.284485 316.56952 \nL 284.527701 316.536131 \nL 286.770917 315.570027 \nL 289.014133 307.237407 \nL 291.257349 316.501698 \nL 293.500565 316.922491 \nL 295.743781 316.970966 \nL 297.986997 316.692758 \nL 300.230214 316.894209 \nL 304.716646 316.929592 \nL 306.959862 313.487183 \nL 309.203078 317.21921 \nL 311.446294 317.502861 \nL 313.68951 317.555448 \nL 315.932726 316.771369 \nL 318.175942 317.648183 \nL 320.419158 317.57377 \nL 322.662374 317.711579 \nL 324.90559 317.727342 \nL 327.148807 308.590237 \nL 329.392023 317.849433 \nL 336.121671 317.951693 \nL 338.364887 315.840669 \nL 340.608103 317.572284 \nL 342.851319 317.328061 \nL 345.094535 316.909164 \nL 347.337751 318.040782 \nL 349.580967 317.749556 \nL 351.824183 318.046857 \nL 354.067399 318.057082 \nL 356.310616 305.150332 \nL 358.553832 318.061615 \nL 363.040264 318.062615 \nL 365.28348 317.402582 \nL 367.526696 316.921632 \nL 369.769912 318.09465 \nL 372.013128 318.092461 \nL 374.256344 317.9483 \nL 376.49956 318.372879 \nL 378.742776 318.295922 \nL 380.985992 318.391193 \nL 383.229209 317.835888 \nL 385.472425 312.759116 \nL 387.715641 318.251276 \nL 392.202073 318.381389 \nL 394.445289 317.750887 \nL 396.688505 317.662906 \nL 398.931721 318.243318 \nL 401.174937 318.446094 \nL 403.418153 317.967021 \nL 405.661369 318.377962 \nL 407.904585 318.372716 \nL 410.147802 318.236229 \nL 412.391018 318.456429 \nL 416.87745 318.467945 \nL 419.120666 317.217815 \nL 421.363882 318.468688 \nL 423.607098 318.473104 \nL 425.850314 312.305191 \nL 428.09353 318.467576 \nL 439.309611 318.453475 \nL 441.552827 318.45271 \nL 443.796043 318.30742 \nL 446.039259 317.641401 \nL 448.282475 318.437292 \nL 450.525691 318.355112 \nL 455.012123 318.423066 \nL 459.498555 318.434429 \nL 472.957852 318.456529 \nL 477.444284 318.530042 \nL 479.6875 318.534545 \nL 479.6875 318.534545 \n\" style=\"fill:none;stroke:#1f77b4;stroke-linecap:square;stroke-width:1.5;\"/>\n   </g>\n   <g id=\"patch_3\">\n    <path d=\"M 33.2875 333.36 \nL 33.2875 7.2 \n\" style=\"fill:none;stroke:#000000;stroke-linecap:square;stroke-linejoin:miter;stroke-width:0.8;\"/>\n   </g>\n   <g id=\"patch_4\">\n    <path d=\"M 479.6875 333.36 \nL 479.6875 7.2 \n\" style=\"fill:none;stroke:#000000;stroke-linecap:square;stroke-linejoin:miter;stroke-width:0.8;\"/>\n   </g>\n   <g id=\"patch_5\">\n    <path d=\"M 33.2875 333.36 \nL 479.6875 333.36 \n\" style=\"fill:none;stroke:#000000;stroke-linecap:square;stroke-linejoin:miter;stroke-width:0.8;\"/>\n   </g>\n   <g id=\"patch_6\">\n    <path d=\"M 33.2875 7.2 \nL 479.6875 7.2 \n\" style=\"fill:none;stroke:#000000;stroke-linecap:square;stroke-linejoin:miter;stroke-width:0.8;\"/>\n   </g>\n   <g id=\"legend_1\">\n    <g id=\"patch_7\">\n     <path d=\"M 434.325 29.878125 \nL 472.6875 29.878125 \nQ 474.6875 29.878125 474.6875 27.878125 \nL 474.6875 14.2 \nQ 474.6875 12.2 472.6875 12.2 \nL 434.325 12.2 \nQ 432.325 12.2 432.325 14.2 \nL 432.325 27.878125 \nQ 432.325 29.878125 434.325 29.878125 \nz\n\" style=\"fill:#ffffff;opacity:0.8;stroke:#cccccc;stroke-linejoin:miter;\"/>\n    </g>\n    <g id=\"line2d_17\">\n     <path d=\"M 436.325 20.298438 \nL 456.325 20.298438 \n\" style=\"fill:none;stroke:#1f77b4;stroke-linecap:square;stroke-width:1.5;\"/>\n    </g>\n    <g id=\"line2d_18\"/>\n    <g id=\"text_16\">\n     <!-- 0 -->\n     <g transform=\"translate(464.325 23.798438)scale(0.1 -0.1)\">\n      <use xlink:href=\"#DejaVuSans-48\"/>\n     </g>\n    </g>\n   </g>\n  </g>\n </g>\n <defs>\n  <clipPath id=\"p327eb74060\">\n   <rect height=\"326.16\" width=\"446.4\" x=\"33.2875\" y=\"7.2\"/>\n  </clipPath>\n </defs>\n</svg>\n",
      "text/plain": "<Figure size 576x432 with 1 Axes>"
     },
     "metadata": {
      "needs_background": "light"
     },
     "output_type": "display_data"
    }
   ],
   "source": [
    "Box2principalDataframe.plot(kind=\"line\", y=0, figsize=(8, 6))"
   ]
  },
  {
   "cell_type": "code",
   "execution_count": null,
   "metadata": {},
   "outputs": [],
   "source": [
    "Box2principalDataframe.plot(kind=\"line\", y=1, figsize=(8, 6))"
   ]
  },
  {
   "cell_type": "code",
   "execution_count": null,
   "metadata": {},
   "outputs": [],
   "source": [
    "Box2principalDataframe.plot(kind=\"line\", y=2, figsize=(8, 6))"
   ]
  },
  {
   "cell_type": "markdown",
   "metadata": {
    "collapsed": false
   },
   "source": [
    "### Now, let's do PCA on just Box3"
   ]
  },
  {
   "cell_type": "code",
   "execution_count": null,
   "metadata": {},
   "outputs": [],
   "source": [
    "Box3 = pd.read_csv(\"data files/Box3.csv\", header=None, index_col=None)\n",
    "del Box3[441]\n",
    "Box3.info()"
   ]
  },
  {
   "cell_type": "code",
   "execution_count": null,
   "metadata": {},
   "outputs": [],
   "source": [
    "ScaledBox3 = StandardScaler().fit_transform(Box3.loc[:, :].values)\n",
    "\n",
    "Box3pca = PCA(n_components=5).fit(ScaledBox3)\n",
    "Box3principalComponents = Box3pca.fit_transform(ScaledBox3)\n",
    "Box3principalDataframe = pd.DataFrame(data=Box3principalComponents)\n",
    "Box3principalDataframe.head()"
   ]
  },
  {
   "cell_type": "code",
   "execution_count": null,
   "metadata": {},
   "outputs": [],
   "source": [
    "k = 0\n",
    "for l in Box3pca.explained_variance_ratio_.cumsum():\n",
    "    k += 1\n",
    "    print(f\"PC{k} explained variance: {l*100}\")"
   ]
  },
  {
   "cell_type": "code",
   "execution_count": null,
   "metadata": {},
   "outputs": [],
   "source": [
    "Box3principalDataframe.plot(kind=\"line\", y=0, figsize=(8, 6))"
   ]
  },
  {
   "cell_type": "code",
   "execution_count": null,
   "metadata": {},
   "outputs": [],
   "source": [
    "Box3principalDataframe.plot(kind=\"line\", y=1, figsize=(8, 6))"
   ]
  },
  {
   "cell_type": "code",
   "execution_count": null,
   "metadata": {},
   "outputs": [],
   "source": [
    "Box3principalDataframe.plot(kind=\"line\", y=2, figsize=(8, 6))"
   ]
  },
  {
   "cell_type": "markdown",
   "metadata": {
    "collapsed": false,
    "pycharm": {
     "name": "#%% md\n"
    }
   },
   "source": [
    "### Now, let's do PCA on just Box4"
   ]
  },
  {
   "cell_type": "code",
   "execution_count": null,
   "metadata": {},
   "outputs": [],
   "source": [
    "Box4 = pd.read_csv(\"data files/Box4.csv\", header=None, index_col=None)\n",
    "del Box4[441]\n",
    "Box4.info()"
   ]
  },
  {
   "cell_type": "code",
   "execution_count": null,
   "metadata": {},
   "outputs": [],
   "source": [
    "ScaledBox4 = StandardScaler().fit_transform(Box4.loc[:, :].values)\n",
    "\n",
    "Box4pca = PCA(n_components=5).fit(ScaledBox4)\n",
    "Box4principalComponents = Box4pca.fit_transform(ScaledBox4)\n",
    "Box4principalDataframe = pd.DataFrame(data=Box4principalComponents)\n",
    "Box4principalDataframe.head()"
   ]
  },
  {
   "cell_type": "code",
   "execution_count": null,
   "metadata": {},
   "outputs": [],
   "source": [
    "k = 0\n",
    "for l in Box3pca.explained_variance_ratio_.cumsum():\n",
    "    k += 1\n",
    "    print(f\"PC{k} explained variance: {l*100}\")"
   ]
  },
  {
   "cell_type": "code",
   "execution_count": null,
   "metadata": {},
   "outputs": [],
   "source": [
    "Box4principalDataframe.plot(kind=\"line\", y=0, figsize=(8, 6))"
   ]
  },
  {
   "cell_type": "code",
   "execution_count": null,
   "metadata": {},
   "outputs": [],
   "source": [
    "Box4principalDataframe.plot(kind=\"line\", y=1, figsize=(8, 6))"
   ]
  },
  {
   "cell_type": "code",
   "execution_count": null,
   "metadata": {},
   "outputs": [],
   "source": [
    "Box4principalDataframe.plot(kind=\"line\", y=2, figsize=(8, 6))"
   ]
  },
  {
   "cell_type": "markdown",
   "metadata": {
    "collapsed": false,
    "pycharm": {
     "name": "#%% md\n"
    }
   },
   "source": [
    "### PC2 vs PC3 for all the boxes and stuff"
   ]
  },
  {
   "cell_type": "code",
   "execution_count": null,
   "metadata": {},
   "outputs": [],
   "source": [
    "principalDataframe.plot(kind='scatter', x=1, y=2, figsize=(10, 8), title='PC2 vs PC3')"
   ]
  },
  {
   "cell_type": "code",
   "execution_count": null,
   "metadata": {},
   "outputs": [],
   "source": [
    "Box1principalDataframe.plot(kind='scatter', x=1, y=2, figsize=(10, 8), title='PC2 vs PC3')"
   ]
  },
  {
   "cell_type": "code",
   "execution_count": null,
   "metadata": {},
   "outputs": [],
   "source": [
    "Box2principalDataframe.plot(kind='scatter', x=1, y=2, figsize=(10, 8), title='PC2 vs PC3')"
   ]
  },
  {
   "cell_type": "code",
   "execution_count": null,
   "metadata": {},
   "outputs": [],
   "source": [
    "Box3principalDataframe.plot(kind='scatter', x=1, y=2, figsize=(10, 8), title='PC2 vs PC3')"
   ]
  },
  {
   "cell_type": "code",
   "execution_count": null,
   "metadata": {},
   "outputs": [],
   "source": [
    "Box4principalDataframe.plot(kind='scatter', x=1, y=2, figsize=(10, 8), title='PC2 vs PC3')\n"
   ]
  }
 ],
 "metadata": {
  "kernelspec": {
   "display_name": "Python 3",
   "language": "python",
   "name": "python3"
  },
  "language_info": {
   "codemirror_mode": {
    "name": "ipython",
    "version": 2
   },
   "file_extension": ".py",
   "mimetype": "text/x-python",
   "name": "python",
   "nbconvert_exporter": "python",
   "pygments_lexer": "ipython2",
   "version": "3.7.4-final"
  },
  "pycharm": {
   "stem_cell": {
    "cell_type": "raw",
    "source": [],
    "metadata": {
     "collapsed": false
    }
   }
  }
 },
 "nbformat": 4,
 "nbformat_minor": 0
}