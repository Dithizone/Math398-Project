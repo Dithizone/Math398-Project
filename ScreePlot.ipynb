{
 "cells": [
  {
   "cell_type": "markdown",
   "metadata": {
    "collapsed": false,
    "pycharm": {
     "name": "#%% md\n"
    }
   },
   "source": [
    "# Principal Component Analysis  Scree Plot \n"
   ]
  },
  {
   "cell_type": "code",
   "execution_count": 3,
   "metadata": {
    "pycharm": {
     "is_executing": false
    }
   },
   "outputs": [
    {
     "name": "stdout",
     "text": [
      "<class 'pandas.core.frame.DataFrame'>\n",
      "RangeIndex: 200 entries, 0 to 199\n",
      "Columns: 1764 entries, 0 to 1763\n",
      "dtypes: float64(1764)\n",
      "memory usage: 2.7 MB\n"
     ],
     "output_type": "stream"
    },
    {
     "data": {
      "text/plain": "Text(0.5, 1.0, 'Scree Plot')"
     },
     "metadata": {},
     "output_type": "execute_result",
     "execution_count": 3
    },
    {
     "data": {
      "text/plain": "<Figure size 432x288 with 1 Axes>",
      "image/png": "[encoded data removed]"
     },
     "metadata": {
      "needs_background": "light"
     },
     "output_type": "display_data"
    }
   ],
   "source": [
    "import pandas as pd\n",
    "import numpy as np\n",
    "from sklearn.decomposition import PCA\n",
    "from sklearn import preprocessing\n",
    "import matplotlib.pyplot as plt\n",
    "from sklearn.preprocessing import StandardScaler\n",
    "\n",
    "SpectraMatrix = pd.read_csv(\"data files/SpectraMatrix.csv\", header=None, index_col=None)\n",
    "SpectraMatrix.info()\n",
    "x = StandardScaler().fit_transform(SpectraMatrix.loc[:, :].values)\n",
    "\n",
    "nComponents = 5\n",
    "pca = PCA(n_components = nComponents).fit(x)\n",
    "principalComponents = pca.fit_transform(x)\n",
    "pComponents = pd.DataFrame(data=principalComponents) \n",
    "\n",
    "pcbase = []\n",
    "x = []\n",
    "for i in range(nComponents):\n",
    "    x.append(i+1)\n",
    "\n",
    "for i in pca.explained_variance_ratio_:\n",
    "    pcbase.append(i*100)\n",
    "\n",
    "plt.scatter(x,pcbase)\n",
    "plt.plot(x, pcbase)\n",
    "plt.xlabel(xlabel=\"principal component\")\n",
    "plt.ylabel(ylabel=\"variance explained\")\n",
    "plt.title(label=\"Scree Plot\")\n",
    "\n"
   ]
  }
 ],
 "metadata": {
  "kernelspec": {
   "display_name": "Python 3",
   "language": "python",
   "name": "python3"
  },
  "language_info": {
   "codemirror_mode": {
    "name": "ipython",
    "version": 2
   },
   "file_extension": ".py",
   "mimetype": "text/x-python",
   "name": "python",
   "nbconvert_exporter": "python",
   "pygments_lexer": "ipython2",
   "version": "3.7.4-final"
  },
  "pycharm": {
   "stem_cell": {
    "cell_type": "raw",
    "source": [],
    "metadata": {
     "collapsed": false
    }
   }
  }
 },
 "nbformat": 4,
 "nbformat_minor": 0
}