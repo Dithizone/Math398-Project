{
 "cells": [
  {
   "cell_type": "markdown",
   "source": [
    "# Tensor Decomposition\n",
    "\n",
    "#### CANDECOMP/PARAFAC (CP) Tensor Decomposition\n",
    "\n",
    "The data given in SpectraMatrix.csv can be expressed as a 200x1764 matrix (or 2-way tensor), where one dimension corresponds to the photon energy and the other dimension to the sensor detecting the photons. There is another dimension which is ignored in a 200x1764 structure, but which is so intuitive that we've separated the data by it already: the box number.\n",
    "\n",
    "The 1764 sensors are four boxes, each reading the same spectra of photon energies (first dimension), and each made of 441 sensors arranged in the same 21x21 shape (second dimension). A 200x441x4 3-way tensor can be constructed using the boxes as the third dimension.\n",
    "\n",
    "Essentially, this means our tensor is Box1, Box2, Box3, and Box4 stacked on top of each other. "
   ],
   "metadata": {
    "collapsed": false,
    "pycharm": {
     "name": "#%% md\n"
    }
   }
  },
  {
   "cell_type": "code",
   "execution_count": null,
   "metadata": {
    "collapsed": true
   },
   "outputs": [],
   "source": [
    "import numpy as np\n",
    "import pandas as pd\n",
    "import tensorflow as tf\n",
    "import ThingsWeDoALot as th\n",
    "\n",
    "\n",
    "\n",
    "SpectraMatrix = th.makeDataFrameWithTheXAxis(dataframefilepath='data files/SpectraMatrix.csv')\n",
    "SpectraMatrixByBoxes = th.makeDataFrameWithTheXAxis(dataframefilepath='data files/SpectraMatrixByBoxes.csv')\n",
    "Box1 = th.makeDataFrameWithTheXAxis(dataframefilepath='data files/Box1.csv')\n",
    "Box2 = th.makeDataFrameWithTheXAxis(dataframefilepath='data files/Box2.csv')\n",
    "Box3 = th.makeDataFrameWithTheXAxis(dataframefilepath='data files/Box3.csv')\n",
    "Box4 = th.makeDataFrameWithTheXAxis(dataframefilepath='data files/Box4.csv')\n",
    "Box5 = th.makeDataFrameWithTheXAxis(dataframefilepath='data files/Box5nonegatives.csv')\n",
    "\n",
    "print(\"Libraries imported and dataframes created.\")"
   ]
  },
  {
   "cell_type": "markdown",
   "source": [
    "### How To Build a Tensor With TensorFlow\n",
    "\n",
    "Thankfully there are no curly braces or semicolons, but the notation is still ugly. Imagine all you can use to create a tensor is square brackets and commas:\n",
    "\n",
    "```\n",
    "thetensor = tf.constant([\n",
    "    [[1, 2, 3],\n",
    "     [4, 5, 6],\n",
    "     [7, 8, 9]],\n",
    "    [[10, 11, 12],\n",
    "     [13, 14, 15],\n",
    "     [16, 17, 18]],\n",
    "    [[100, 101, 102],\n",
    "     [103, 104, 105],\n",
    "     [106, 107, 108]]])\n",
    "```\n",
    "\n",
    "This creates a 3x3x3 tensor by stacking three matrices on top of each other &mdash; the single-digit matrix (1 to 9), the double-digit matrix (10 to 18), and the three-digit matrix (100 to 108). If you start at the first corner with the value ```1```, each axis would be ```[1, 4, 7]```, ```[1, 2, 3]```, and ```[1, 10, 100]```."
   ],
   "metadata": {
    "collapsed": false,
    "pycharm": {
     "name": "#%% md\n"
    }
   }
  },
  {
   "cell_type": "code",
   "execution_count": null,
   "outputs": [],
   "source": [
    "print('The next step is to convert SpectraMatrix.csv into a tensor elegantly.')"
   ],
   "metadata": {
    "collapsed": false,
    "pycharm": {
     "name": "#%%\n"
    }
   }
  }
 ],
 "metadata": {
  "kernelspec": {
   "display_name": "Python 3",
   "language": "python",
   "name": "python3"
  },
  "language_info": {
   "codemirror_mode": {
    "name": "ipython",
    "version": 2
   },
   "file_extension": ".py",
   "mimetype": "text/x-python",
   "name": "python",
   "nbconvert_exporter": "python",
   "pygments_lexer": "ipython2",
   "version": "2.7.6"
  },
  "pycharm": {
   "stem_cell": {
    "cell_type": "raw",
    "source": [],
    "metadata": {
     "collapsed": false
    }
   }
  }
 },
 "nbformat": 4,
 "nbformat_minor": 0
}