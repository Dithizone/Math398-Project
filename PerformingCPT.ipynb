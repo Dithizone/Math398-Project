{
 "cells": [
  {
   "cell_type": "markdown",
   "source": [
    "# Tensor Decomposition\n",
    "\n",
    "### Introduction to CANDECOMP/PARAFAC (CP) Tensor Decomposition\n",
    "\n",
    "The data given in SpectraMatrix.csv can be\n",
    "expressed as a 200x1764 matrix (or 2-way tensor),\n",
    "where one dimension corresponds to the photon\n",
    "energy and the other dimension to the sensor\n",
    "detecting the photons. There is another dimension\n",
    "which is ignored in a 200x1764 structure, but which\n",
    "is so intuitive that we've separated the data by\n",
    "it already: the box number.\n",
    "\n",
    "The 1764 sensors are four boxes, each reading the\n",
    "same spectra of photon energies (first dimension),\n",
    "and each made of 441 sensors arranged in the same\n",
    "21x21 shape (second dimension). A 200x441x4 3-way\n",
    "tensor can be constructed using the boxes as the\n",
    "third dimension.\n",
    "\n",
    "Essentially, this means our tensor is Box1, Box2,\n",
    "Box3, and Box4 stacked on top of each other.\n",
    "\n",
    "## Building The Tensor \n",
    "\n",
    "This code below imports all the necessary libraries\n",
    "and constructs our tensor."
   ],
   "metadata": {
    "collapsed": false,
    "pycharm": {
     "name": "#%% md\n"
    }
   }
  },
  {
   "cell_type": "code",
   "execution_count": 9,
   "metadata": {
    "collapsed": true
   },
   "outputs": [],
   "source": [
    "import numpy as np\n",
    "import pandas as pd\n",
    "import matplotlib.pyplot as plt\n",
    "from tensorly.decomposition import parafac\n",
    "import ThingsWeDoALot as th\n",
    "\n",
    "Box1List = []\n",
    "Box2List = []\n",
    "Box3List = []\n",
    "Box4List = []\n",
    "\n",
    "SpectraMatrixRows = open('data files/SpectraMatrix.csv', 'r').read().split(sep='\\n')\n",
    "for row in SpectraMatrixRows:\n",
    "    entry = row.split(sep=',')\n",
    "    for i in range(441):\n",
    "        column = i * 4\n",
    "        Box1List.append(float(entry[column]))\n",
    "        Box2List.append(float(entry[column + 1]))\n",
    "        Box3List.append(float(entry[column + 2]))\n",
    "        Box4List.append(float(entry[column + 3]))\n",
    "\n",
    "# Creating AllBoxes, which is a huge list of all SpectraMatrix data for easy tensor creation\n",
    "AllBoxes = Box1List + Box2List + Box3List + Box4List\n",
    "\n",
    "theTensor = np.array(AllBoxes).reshape((4, 200, 441))  # The tensor, in the proper shape, that we hope to do CPT on"
   ]
  },
  {
   "cell_type": "markdown",
   "source": [
    "## Creating the Decomposed Tensor\n",
    "\n",
    "Upon doing ```tensorly.decomposition.parafac()``` on our\n",
    "tensor, it returns an object with two entries &mdash; \n",
    "```(weights, factors)```"
   ],
   "metadata": {
    "collapsed": false,
    "pycharm": {
     "name": "#%% md\n"
    }
   }
  },
  {
   "cell_type": "code",
   "execution_count": 10,
   "outputs": [
    {
     "name": "stdout",
     "output_type": "stream",
     "text": [
      "(weights, factors) : rank-4 KruskalTensor of shape (4, 200, 441) \n"
     ]
    }
   ],
   "source": [
    "tensorrank = 4  # Note: a value larger than 4 requires 58 Gb of memory\n",
    "\n",
    "theCPT = parafac(theTensor, rank=tensorrank)\n",
    "print(theCPT)"
   ],
   "metadata": {
    "collapsed": false,
    "pycharm": {
     "name": "#%%\n"
    }
   }
  },
  {
   "cell_type": "markdown",
   "source": [
    "What follows is an attempt to burrow into the\n",
    "weights and factors to determine what they're\n",
    "composed of.\n",
    "\n",
    ">A discovery: The number of weights and the\n",
    "second dimension of each factor is equal to\n",
    "the rank we choose in the ```parafac(rank=)```\n",
    "method call. Perhaps this is where Luttman\n",
    "got 8 modes from? It requires a LOT of memory\n",
    ">to go beyond rank 4.\n",
    ">\n",
    ">Additionally, changing rank causes values to \n",
    ">flip between positive and negative each time \n",
    ">a decomposition is done.\n",
    "\n",
    "We proceed with ```rank=4```.\n",
    "\n",
    "### First, the weights:"
   ],
   "metadata": {
    "collapsed": false,
    "pycharm": {
     "name": "#%% md\n"
    }
   }
  },
  {
   "cell_type": "code",
   "execution_count": 11,
   "outputs": [
    {
     "name": "stdout",
     "output_type": "stream",
     "text": [
      "CPTweights is a <class 'numpy.ndarray'>\n",
      "CPTweights is 4 entries long with dimensions: (4,)\n",
      "Weight 1 is 1.0, a <class 'numpy.float64'>\n",
      "Weight 2 is 1.0, a <class 'numpy.float64'>\n",
      "Weight 3 is 1.0, a <class 'numpy.float64'>\n",
      "Weight 4 is 1.0, a <class 'numpy.float64'>\n"
     ]
    }
   ],
   "source": [
    "CPTweights = theCPT[0]\n",
    "print(f'CPTweights is a {type(CPTweights)}')\n",
    "print(f'CPTweights is {CPTweights.size} entries long with dimensions: {CPTweights.shape}')\n",
    "\n",
    "for i in range(len(CPTweights)):\n",
    "    print(f'Weight {i + 1} is {CPTweights[i]}, a {type(CPTweights[i])}')"
   ],
   "metadata": {
    "collapsed": false,
    "pycharm": {
     "name": "#%%\n"
    }
   }
  },
  {
   "cell_type": "markdown",
   "source": [
    "### Now, the factors:"
   ],
   "metadata": {
    "collapsed": false,
    "pycharm": {
     "name": "#%% md\n"
    }
   }
  },
  {
   "cell_type": "code",
   "execution_count": 12,
   "outputs": [
    {
     "name": "stdout",
     "output_type": "stream",
     "text": [
      "CPTfactors is a <class 'list'>\n",
      "CPTfactors is 3 long.\n",
      "Factor 1 dimensions: (4, 4)\n",
      "Factor 2 dimensions: (200, 4)\n",
      "Factor 3 dimensions: (441, 4)\n"
     ]
    }
   ],
   "source": [
    "CPTfactors = theCPT[1]\n",
    "print(f'CPTfactors is a {type(CPTfactors)}')\n",
    "print(f'CPTfactors is {len(CPTfactors)} long.')\n",
    "factor1 = CPTfactors[0]\n",
    "factor2 = CPTfactors[1]\n",
    "factor3 = CPTfactors[2]\n",
    "\n",
    "print(f'Factor 1 dimensions: {factor1.shape}')\n",
    "print(f'Factor 2 dimensions: {factor2.shape}')\n",
    "print(f'Factor 3 dimensions: {factor3.shape}')"
   ],
   "metadata": {
    "collapsed": false,
    "pycharm": {
     "name": "#%%\n"
    }
   }
  },
  {
   "cell_type": "markdown",
   "source": [
    "## Exploring the Factors\n",
    "\n",
    "Clearly factor 1 describes the boxes; factor 2, the photon\n",
    "energies; and factor 3, the sensors. We know this because\n",
    "the row lengths are 4, 200, and 441, respectively.\n",
    "\n",
    "But what do each of these factors *look* like?"
   ],
   "metadata": {
    "collapsed": false,
    "pycharm": {
     "name": "#%% md\n"
    }
   }
  },
  {
   "cell_type": "markdown",
   "source": [
    "### Factor 1\n",
    "\n",
    "As a DataFrame, factor 1 looks like:"
   ],
   "metadata": {
    "collapsed": false,
    "pycharm": {
     "name": "#%% md\n"
    }
   }
  },
  {
   "cell_type": "code",
   "execution_count": 13,
   "outputs": [
    {
     "name": "stdout",
     "output_type": "stream",
     "text": [
      "               0             1             2             3\n",
      "labels                                                    \n",
      "Box 1   0.000008  1.111261e-07  8.998223e-10 -5.622155e-10\n",
      "Box 2   0.000005  4.820093e-06 -2.009705e-07  4.556614e-08\n",
      "Box 3   0.000007  1.436000e-06  5.309646e-07  2.279206e-08\n",
      "Box 4   0.000008  1.805315e-07 -2.053786e-09 -2.901241e-07\n"
     ]
    }
   ],
   "source": [
    "# Creating a dataframe of factor 1 with an x-axis of Box labels.\n",
    "initialfactor1dataframe = pd.DataFrame(data=factor1)\n",
    "factor1dataframeXAxis = pd.DataFrame(data={'labels': ['Box 1', 'Box 2', 'Box 3', 'Box 4']})\n",
    "factor1dataframe = pd.concat((initialfactor1dataframe, factor1dataframeXAxis),\n",
    "                             axis=1)\\\n",
    "                     .set_index('labels')\n",
    "print(factor1dataframe)"
   ],
   "metadata": {
    "collapsed": false,
    "pycharm": {
     "name": "#%%\n"
    }
   }
  },
  {
   "cell_type": "markdown",
   "source": [
    "Each column in factor 1, when graphed, looks like:"
   ],
   "metadata": {
    "collapsed": false,
    "pycharm": {
     "name": "#%% md\n"
    }
   }
  },
  {
   "cell_type": "code",
   "execution_count": 14,
   "outputs": [
    {
     "name": "stdout",
     "output_type": "stream",
     "text": [
      "Graph saved!\n"
     ]
    },
    {
     "data": {
      "text/plain": "<Figure size 576x432 with 1 Axes>",
      "image/png": "[encoded data removed]"
     },
     "metadata": {
      "needs_background": "light"
     },
     "output_type": "display_data"
    }
   ],
   "source": [
    "plt.figure(figsize=(8, 6))\n",
    "for j in range(tensorrank):\n",
    "    plt.plot(factor1dataframe.iloc[:, j],\n",
    "             label=f'Column {j + 1}')\n",
    "\n",
    "plt.title(label='Line Plot of Factor 1 Columns', fontsize=15)\n",
    "plt.legend()\n",
    "plt.xticks(ticks=[0, 1, 2, 3])\n",
    "plt.ylabel('Value After Decomposition')\n",
    "# th.saveThisGraph('images/CPT images/Factor1.png')"
   ],
   "metadata": {
    "collapsed": false,
    "pycharm": {
     "name": "#%%\n"
    }
   }
  },
  {
   "cell_type": "markdown",
   "source": [
    "### Factor 2\n",
    "\n",
    "Each column in factor 2, when graphed, looks like this:"
   ],
   "metadata": {
    "collapsed": false,
    "pycharm": {
     "name": "#%% md\n"
    }
   }
  },
  {
   "cell_type": "code",
   "execution_count": 15,
   "outputs": [
    {
     "data": {
      "text/plain": "Text(0, 0.5, 'Value After Decomposition')"
     },
     "execution_count": 15,
     "metadata": {},
     "output_type": "execute_result"
    },
    {
     "data": {
      "text/plain": "<Figure size 576x432 with 1 Axes>",
      "image/png": "[encoded data removed]"
     },
     "metadata": {
      "needs_background": "light"
     },
     "output_type": "display_data"
    }
   ],
   "source": [
    "initialfactor2dataframe = pd.DataFrame(data=factor2)\n",
    "factor2dataframe = th.attachXAxis(dataframe=initialfactor2dataframe)\n",
    "\n",
    "plt.figure(figsize=(8, 6))\n",
    "for k in range(tensorrank):\n",
    "    plt.plot(factor2dataframe.iloc[:, k], label=f'Column {k + 1}')\n",
    "\n",
    "plt.title(label='Line Plot of Factor 2 Columns', fontsize=15)\n",
    "plt.legend()\n",
    "plt.xlabel('Photon Energy (MeV)')\n",
    "plt.ylabel('Value After Decomposition')\n",
    "# th.saveThisGraph('images/CPT images/Factor2.png')"
   ],
   "metadata": {
    "collapsed": false,
    "pycharm": {
     "name": "#%%\n"
    }
   }
  },
  {
   "cell_type": "markdown",
   "source": [
    "### Factor 3\n",
    "\n",
    "Each column in factor 3, when graphed, looks like this:"
   ],
   "metadata": {
    "collapsed": false,
    "pycharm": {
     "name": "#%% md\n"
    }
   }
  },
  {
   "cell_type": "code",
   "execution_count": 16,
   "outputs": [
    {
     "data": {
      "text/plain": "Text(0, 0.5, 'Value After Decomposition')"
     },
     "execution_count": 16,
     "metadata": {},
     "output_type": "execute_result"
    },
    {
     "data": {
      "text/plain": "<Figure size 576x432 with 1 Axes>",
      "image/png": "[encoded data removed]"
     },
     "metadata": {
      "needs_background": "light"
     },
     "output_type": "display_data"
    }
   ],
   "source": [
    "factor3dataframe = pd.DataFrame(data=factor3)\n",
    "\n",
    "plt.figure(figsize=(8, 6))\n",
    "for m in range(tensorrank):\n",
    "    plt.plot(factor3dataframe.iloc[:, m], label=f'Column {m + 1}')\n",
    "\n",
    "plt.title(label='Line Plot of Factor 3 Columns', fontsize=15)\n",
    "plt.legend()\n",
    "plt.xlabel('Sensor Number')\n",
    "plt.ylabel('Value After Decomposition')\n",
    "# th.saveThisGraph('images/CPT images/Factor3.png')\n",
    "\n",
    "# The code below plots the columns individually:\n",
    "\n",
    "# for m in range(tensorrank):\n",
    "#     th.linePlotTheThing(dataframetoplot=factor3dataframe,\n",
    "#                         columntoplot=m,\n",
    "#                         xaxislabel='Sensor Number',\n",
    "#                         yaxislabel='Value After Decomposition',\n",
    "#                         title='Line Plot of Factor 3 Columns',\n",
    "#                         figuredimensions=(8, 6))"
   ],
   "metadata": {
    "collapsed": false,
    "pycharm": {
     "name": "#%%\n"
    }
   }
  },
  {
   "cell_type": "markdown",
   "source": [
    "## Conclusions\n",
    "\n",
    "Weights in the PARAFAC decomposition seem to suggest\n",
    "everything should be multiplied by 1, which is meaningless.\n",
    "Factors 1, 2, and 3 correspond to the Box number, Spectra,\n",
    "and behavior across the sensors, respectively.\n",
    "\n",
    "With each run of the code, the columns remain identical\n",
    "except for switching sometimes between positive and\n",
    "negative.\n",
    "\n",
    "In factor 2, it is easy to distinguish which column\n",
    "corresponds to which source, though the meanings of\n",
    "each column in factors 1 and 3 are inscrutable.\n"
   ],
   "metadata": {
    "collapsed": false,
    "pycharm": {
     "name": "#%% md\n"
    }
   }
  }
 ],
 "metadata": {
  "kernelspec": {
   "display_name": "Python 3",
   "language": "python",
   "name": "python3"
  },
  "language_info": {
   "codemirror_mode": {
    "name": "ipython",
    "version": 2
   },
   "file_extension": ".py",
   "mimetype": "text/x-python",
   "name": "python",
   "nbconvert_exporter": "python",
   "pygments_lexer": "ipython2",
   "version": "2.7.6"
  }
 },
 "nbformat": 4,
 "nbformat_minor": 0
}