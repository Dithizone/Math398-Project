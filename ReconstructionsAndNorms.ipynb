{
 "cells": [
  {
   "cell_type": "markdown",
   "metadata": {
    "collapsed": true,
    "pycharm": {
     "name": "#%% md\n"
    }
   },
   "source": [
    "# Reconstruction\n",
    "\n",
    "What follows are the reconstructions from our PCA, NMF, \n",
    "and CPT decompositions and the calculations of the \n",
    "Frobenius, L1, and L2 norms of each."
   ]
  },
  {
   "cell_type": "code",
   "execution_count": 6,
   "outputs": [
    {
     "name": "stdout",
     "output_type": "stream",
     "text": [
      "----- Frobenius Norms -----\n",
      "Before PCA (after scaling): 593.9696961967, After PCA: 593.940543162866. Difference: 0.029153033834063535.\n",
      "Before NMF (original data): 1.588895044191344e-05, After NMF: 1.5864817538033615e-05. Difference: -2.4132903879824915e-08.\n",
      "Before CPT (from MATLAB): 1.5889e-05, After CPT (rank 5): 1.5695e-05, After CPT (rank 8): 1.5777e-05.\n",
      "CPT difference (rank 5): 1.9399999999999848e-07. CPT Difference (rank 8): 1.1199999999999825e-07.\n",
      "\n",
      "----- L1 Norms -----\n",
      "Before PCA (after scaling): 153.078389407727, After PCA: 153.41094375819117. Difference: 0.33255435046416437.\n",
      "Before NMF (original data): 3.5598727239e-05, After NMF: 3.6541795263122365e-05. Difference: 9.43068024122367e-07.\n",
      "\n",
      "----- L2 Norms -----\n",
      "Before PCA (after scaling): 584.4335083183868, After PCA: 584.4335083183865. Difference: 2.2737367544323206e-13.\n",
      "Before NMF (original data): 1.466607884918271e-05, After NMF: 1.4669118734712303e-05. Difference: 3.0398855295933337e-09.\n",
      "\n"
     ]
    }
   ],
   "source": [
    "import tensorly as tl\n",
    "from numpy.linalg import norm\n",
    "import numpy as np\n",
    "from coolSubplotsAndNorms import x,\\\n",
    "    SpectraMatrix,\\\n",
    "    theTensor,\\\n",
    "    principalDataframe,\\\n",
    "    WSpectraMatrixDataFrame,\\\n",
    "    HSpectraMatrixDataFrame,\\\n",
    "    reconstructedPCA,\\\n",
    "    theCPT\n",
    "\n",
    "frobeniusNormAfterScaling = norm(x, ord='fro')\n",
    "L1NormAfterScaling = norm(x, ord=1)\n",
    "L2NormAfterScaling = norm(x, ord=2)\n",
    "\n",
    "frobeniusNormOfOriginalData = norm(SpectraMatrix, ord='fro')\n",
    "L1NormOfOriginalData = norm(SpectraMatrix, ord=1)\n",
    "L2NormOfOriginalData = norm(SpectraMatrix, ord=2)\n",
    "\n",
    "frobeniusNormOftheTensor = norm(theTensor, ord='fro', axis=(1, 2))\n",
    "L1NormOftheTensor = norm(theTensor, ord=1, axis=(1, 2))\n",
    "L2NormOftheTensor = norm(theTensor, ord=2, axis=(1, 2))\n",
    "\n",
    "# ------- Undoing PCA -------\n",
    "frobeniusNormOfreconstructedPCA = norm(reconstructedPCA, ord='fro')\n",
    "L1NormOfreconstructedPCA = norm(reconstructedPCA, ord=1)\n",
    "L2NormOfreconstructedPCA = norm(reconstructedPCA, ord=2)\n",
    "\n",
    "# -------  X - W*H -------\n",
    "numpyW = WSpectraMatrixDataFrame.to_numpy()\n",
    "numpyH = HSpectraMatrixDataFrame.to_numpy()\n",
    "numpySpectra = SpectraMatrix.to_numpy()\n",
    "reconstructedNMF = np.matmul(numpyW, numpyH)\n",
    "frobeniusNormOfreconstructedNMF = norm(reconstructedNMF, ord='fro')\n",
    "L1NormOfreconstructedNMF = norm(reconstructedNMF, ord=1)\n",
    "L2NormOfreconstructedNMF = norm(reconstructedNMF, ord=2)\n",
    "\n",
    "# ------- CPT reconstruction\n",
    "reconstructedCPT = tl.kruskal_to_tensor(theCPT)\n",
    "frobeniusNormOfreconstructedCPT = norm(reconstructedCPT, ord='fro', axis=(1, 2))\n",
    "L1NormOfreconstructedCPT = norm(reconstructedCPT, ord=1, axis=(1, 2))\n",
    "L2NormOfreconstructedCPT = norm(reconstructedCPT, ord=2, axis=(1, 2))\n",
    "\n",
    "matlabfrobeniusbeforeCPT = 1.5889e-05\n",
    "matlab5frobeniusnorm = 1.5695e-05\n",
    "matlab8frobeniusnorm = 1.5777e-5\n",
    "\n",
    "# ------- All the norms -------\n",
    "print(f'----- Frobenius Norms -----')\n",
    "print(f'Before PCA (after scaling): {frobeniusNormAfterScaling}, After PCA: {frobeniusNormOfreconstructedPCA}. Difference: {frobeniusNormAfterScaling - frobeniusNormOfreconstructedPCA}.\\n'\n",
    "      f'Before NMF (original data): {frobeniusNormOfOriginalData}, After NMF: {frobeniusNormOfreconstructedNMF}. Difference: {frobeniusNormOfreconstructedNMF - frobeniusNormOfOriginalData}.\\n'\n",
    "      f'Before CPT (from MATLAB): {matlabfrobeniusbeforeCPT}, After CPT (rank 5): {matlab5frobeniusnorm}, After CPT (rank 8): {matlab8frobeniusnorm}.\\n'\n",
    "      f'CPT difference (rank 5): {matlabfrobeniusbeforeCPT - matlab5frobeniusnorm}. CPT Difference (rank 8): {matlabfrobeniusbeforeCPT - matlab8frobeniusnorm}.\\n')\n",
    "print(f'----- L1 Norms -----')\n",
    "print(f'Before PCA (after scaling): {L1NormAfterScaling}, After PCA: {L1NormOfreconstructedPCA}. Difference: {L1NormOfreconstructedPCA - L1NormAfterScaling}.\\n'\n",
    "      f'Before NMF (original data): {L1NormOfOriginalData}, After NMF: {L1NormOfreconstructedNMF}. Difference: {L1NormOfreconstructedNMF - L1NormOfOriginalData}.\\n')\n",
    "print(f'----- L2 Norms -----')\n",
    "print(f'Before PCA (after scaling): {L2NormAfterScaling}, After PCA: {L2NormOfreconstructedPCA}. Difference: {L2NormAfterScaling - L2NormOfreconstructedPCA}.\\n'\n",
    "      f'Before NMF (original data): {L2NormOfOriginalData}, After NMF: {L2NormOfreconstructedNMF}. Difference: {L2NormOfreconstructedNMF - L2NormOfOriginalData}.\\n')"
   ],
   "metadata": {
    "collapsed": false,
    "pycharm": {
     "name": "#%% \n"
    }
   }
  }
 ],
 "metadata": {
  "kernelspec": {
   "display_name": "Python 3",
   "language": "python",
   "name": "python3"
  },
  "language_info": {
   "codemirror_mode": {
    "name": "ipython",
    "version": 2
   },
   "file_extension": ".py",
   "mimetype": "text/x-python",
   "name": "python",
   "nbconvert_exporter": "python",
   "pygments_lexer": "ipython2",
   "version": "2.7.6"
  }
 },
 "nbformat": 4,
 "nbformat_minor": 0
}