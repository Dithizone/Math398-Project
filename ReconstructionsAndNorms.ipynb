{
 "cells": [
  {
   "cell_type": "markdown",
   "metadata": {
    "collapsed": true,
    "pycharm": {
     "name": "#%% md\n"
    }
   },
   "source": [
    "# Reconstruction\n",
    "\n",
    "What follows are the reconstructions from our PCA, NMF, \n",
    "and CPT decompositions and the calculations of the \n",
    "Frobenius, L1, and L2 norms of each."
   ]
  },
  {
   "cell_type": "code",
   "execution_count": 2,
   "outputs": [
    {
     "name": "stdout",
     "output_type": "stream",
     "text": [
      "----- Frobenius Norms -----\n",
      "Before PCA (after scaling): 593.9696961967, After PCA: 593.940543163599\n",
      "Before NMF (original data): 1.588895044191344e-05, After NMF: 1.5864817395765967e-05\n",
      "Before CPT (as tensor): [8.26553004e-06 7.37527633e-06 7.91342342e-06 8.19284981e-06], After CPT: [8.24284174e-06 7.09179849e-06 7.47080084e-06 7.97841961e-06]\n",
      "\n",
      "----- L1 Norms -----\n",
      "Before PCA (after scaling): 153.078389407727, After PCA: 153.41094142284098\n",
      "Before NMF (original data): 3.5598727239e-05, After NMF: 3.654240405703598e-05\n",
      "Before CPT (as tensor): [2.43696963e-06 3.55987272e-05 1.45677848e-05 3.53288437e-06], After CPT: [2.43218382e-06 3.46257194e-05 1.36208486e-05 3.75167766e-06]\n",
      "\n",
      "----- L2 Norms -----\n",
      "Before PCA (after scaling): 584.4335083183868, After PCA: 584.4335083183869\n",
      "Before NMF (original data): 1.466607884918271e-05, After NMF: 1.4669119350108579e-05\n",
      "Before CPT (as tensor): [8.25390869e-06 6.36651707e-06 7.20623467e-06 7.97575703e-06], After CPT: [8.24126389e-06 6.34713396e-06 7.19120277e-06 7.96646314e-06]\n",
      "\n"
     ]
    }
   ],
   "source": [
    "import tensorly as tl\n",
    "from numpy.linalg import norm\n",
    "import numpy as np\n",
    "from coolSubplotsAndNorms import x,\\\n",
    "    SpectraMatrix,\\\n",
    "    theTensor,\\\n",
    "    principalDataframe,\\\n",
    "    WSpectraMatrixDataFrame,\\\n",
    "    HSpectraMatrixDataFrame,\\\n",
    "    reconstructedPCA,\\\n",
    "    theCPT\n",
    "\n",
    "frobeniusNormAfterScaling = norm(x, ord='fro')\n",
    "L1NormAfterScaling = norm(x, ord=1)\n",
    "L2NormAfterScaling = norm(x, ord=2)\n",
    "\n",
    "frobeniusNormOfOriginalData = norm(SpectraMatrix, ord='fro')\n",
    "L1NormOfOriginalData = norm(SpectraMatrix, ord=1)\n",
    "L2NormOfOriginalData = norm(SpectraMatrix, ord=2)\n",
    "\n",
    "frobeniusNormOftheTensor = norm(theTensor, ord='fro', axis=(1, 2))\n",
    "L1NormOftheTensor = norm(theTensor, ord=1, axis=(1, 2))\n",
    "L2NormOftheTensor = norm(theTensor, ord=2, axis=(1, 2))\n",
    "\n",
    "# ------- Undoing PCA -------\n",
    "frobeniusNormOfreconstructedPCA = norm(reconstructedPCA, ord='fro')\n",
    "L1NormOfreconstructedPCA = norm(reconstructedPCA, ord=1)\n",
    "L2NormOfreconstructedPCA = norm(reconstructedPCA, ord=2)\n",
    "\n",
    "# -------  X - W*H -------\n",
    "numpyW = WSpectraMatrixDataFrame.to_numpy()\n",
    "numpyH = HSpectraMatrixDataFrame.to_numpy()\n",
    "numpySpectra = SpectraMatrix.to_numpy()\n",
    "reconstructedNMF = np.matmul(numpyW, numpyH)\n",
    "frobeniusNormOfreconstructedNMF = norm(reconstructedNMF, ord='fro')\n",
    "L1NormOfreconstructedNMF = norm(reconstructedNMF, ord=1)\n",
    "L2NormOfreconstructedNMF = norm(reconstructedNMF, ord=2)\n",
    "\n",
    "# ------- CPT reconstruction\n",
    "reconstructedCPT = tl.kruskal_to_tensor(theCPT)\n",
    "frobeniusNormOfreconstructedCPT = norm(reconstructedCPT, ord='fro', axis=(1, 2))\n",
    "L1NormOfreconstructedCPT = norm(reconstructedCPT, ord=1, axis=(1, 2))\n",
    "L2NormOfreconstructedCPT = norm(reconstructedCPT, ord=2, axis=(1, 2))\n",
    "\n",
    "# ------- All the norms -------\n",
    "print(f'----- Frobenius Norms -----')\n",
    "print(f'Before PCA (after scaling): {frobeniusNormAfterScaling}, After PCA: {frobeniusNormOfreconstructedPCA}\\n'\n",
    "      f'Before NMF (original data): {frobeniusNormOfOriginalData}, After NMF: {frobeniusNormOfreconstructedNMF}\\n'\n",
    "      f'Before CPT (as tensor): {frobeniusNormOftheTensor}, After CPT: {frobeniusNormOfreconstructedCPT}\\n')\n",
    "print(f'----- L1 Norms -----')\n",
    "print(f'Before PCA (after scaling): {L1NormAfterScaling}, After PCA: {L1NormOfreconstructedPCA}\\n'\n",
    "      f'Before NMF (original data): {L1NormOfOriginalData}, After NMF: {L1NormOfreconstructedNMF}\\n'\n",
    "      f'Before CPT (as tensor): {L1NormOftheTensor}, After CPT: {L1NormOfreconstructedCPT}\\n')\n",
    "print(f'----- L2 Norms -----')\n",
    "print(f'Before PCA (after scaling): {L2NormAfterScaling}, After PCA: {L2NormOfreconstructedPCA}\\n'\n",
    "      f'Before NMF (original data): {L2NormOfOriginalData}, After NMF: {L2NormOfreconstructedNMF}\\n'\n",
    "      f'Before CPT (as tensor): {L2NormOftheTensor}, After CPT: {L2NormOfreconstructedCPT}\\n')"
   ],
   "metadata": {
    "collapsed": false,
    "pycharm": {
     "name": "#%% \n"
    }
   }
  }
 ],
 "metadata": {
  "kernelspec": {
   "display_name": "Python 3",
   "language": "python",
   "name": "python3"
  },
  "language_info": {
   "codemirror_mode": {
    "name": "ipython",
    "version": 2
   },
   "file_extension": ".py",
   "mimetype": "text/x-python",
   "name": "python",
   "nbconvert_exporter": "python",
   "pygments_lexer": "ipython2",
   "version": "2.7.6"
  }
 },
 "nbformat": 4,
 "nbformat_minor": 0
}