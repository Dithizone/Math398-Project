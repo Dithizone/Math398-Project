{
 "cells": [
  {
   "cell_type": "markdown",
   "source": [
    "## BoxN.csv Slicing Doublecheck\n",
    "\n",
    "I did some code to slice up the SpectraMatrix.csv into individual boxes — Box1.csv, Box2.csv, Box3.csv, and Box4.csv — and this notebook will load the original data from SpectraMatrix.csv and compare it to the contents of each of the boxes to make sure they're the same."
   ],
   "metadata": {
    "collapsed": false,
    "pycharm": {
     "name": "#%% md\n"
    }
   }
  },
  {
   "cell_type": "code",
   "execution_count": 7,
   "outputs": [
    {
     "name": "stdout",
     "text": [
      "Initialization successful\n"
     ],
     "output_type": "stream"
    }
   ],
   "source": [
    "import pandas as pd\n",
    "\n",
    "print(\"Initialization successful\")"
   ],
   "metadata": {
    "collapsed": false,
    "pycharm": {
     "name": "#%%\n",
     "is_executing": false
    }
   }
  },
  {
   "cell_type": "code",
   "execution_count": 8,
   "outputs": [
    {
     "name": "stdout",
     "text": [
      "Created dataframes for original data and the four boxes.\n"
     ],
     "output_type": "stream"
    }
   ],
   "source": [
    "OriginalData = pd.read_csv(\"SpectraMatrix.csv\", header=None, index_col=None)\n",
    "Box1 = pd.read_csv(\"Box1.csv\", header=None, index_col=None)\n",
    "Box2 = pd.read_csv(\"Box2.csv\", header=None, index_col=None)\n",
    "Box3 = pd.read_csv(\"Box3.csv\", header=None, index_col=None)\n",
    "Box4 = pd.read_csv(\"Box4.csv\", header=None, index_col=None)\n",
    "\n",
    "print(\"Created dataframes for original data and the four boxes.\")"
   ],
   "metadata": {
    "collapsed": false,
    "pycharm": {
     "name": "#%%\n",
     "is_executing": false
    }
   }
  },
  {
   "cell_type": "code",
   "execution_count": 9,
   "outputs": [
    {
     "name": "stdout",
     "text": [
      "Row 1 checked\n",
      "Row 2 checked\n",
      "Row 3 checked\n",
      "Row 4 checked\n",
      "Row 5 checked\n",
      "Row 6 checked\n",
      "Row 7 checked\n",
      "Row 8 checked\n",
      "Row 9 checked\n",
      "Row 10 checked\n",
      "Row 11 checked\n",
      "Row 12 checked\n",
      "Row 13 checked\n",
      "Row 14 checked\n",
      "Row 15 checked\n",
      "Row 16 checked\n",
      "Row 17 checked\n",
      "Row 18 checked\n",
      "Row 19 checked\n",
      "Row 20 checked\n",
      "Row 21 checked\n",
      "Row 22 checked\n",
      "Row 23 checked\n",
      "Row 24 checked\n",
      "Row 25 checked\n",
      "Row 26 checked\n",
      "Row 27 checked\n",
      "Row 28 checked\n",
      "Row 29 checked\n",
      "Row 30 checked\n",
      "Row 31 checked\n",
      "Row 32 checked\n",
      "Row 33 checked\n",
      "Row 34 checked\n",
      "Row 35 checked\n",
      "Row 36 checked\n",
      "Row 37 checked\n",
      "Row 38 checked\n",
      "Row 39 checked\n",
      "Row 40 checked\n",
      "Row 41 checked\n",
      "Row 42 checked\n",
      "Row 43 checked\n",
      "Row 44 checked\n",
      "Row 45 checked\n",
      "Row 46 checked\n",
      "Row 47 checked\n",
      "Row 48 checked\n",
      "Row 49 checked\n",
      "Row 50 checked\n",
      "Row 51 checked\n",
      "Row 52 checked\n",
      "Row 53 checked\n",
      "Row 54 checked\n",
      "Row 55 checked\n",
      "Row 56 checked\n",
      "Row 57 checked\n",
      "Row 58 checked\n",
      "Row 59 checked\n",
      "Row 60 checked\n",
      "Row 61 checked\n",
      "Row 62 checked\n",
      "Row 63 checked\n",
      "Row 64 checked\n",
      "Row 65 checked\n",
      "Row 66 checked\n",
      "Row 67 checked\n",
      "Row 68 checked\n",
      "Row 69 checked\n",
      "Row 70 checked\n",
      "Row 71 checked\n",
      "Row 72 checked\n",
      "Row 73 checked\n",
      "Row 74 checked\n",
      "Row 75 checked\n",
      "Row 76 checked\n",
      "Row 77 checked\n",
      "Row 78 checked\n",
      "Row 79 checked\n",
      "Row 80 checked\n",
      "Row 81 checked\n",
      "Row 82 checked\n",
      "Row 83 checked\n",
      "Row 84 checked\n",
      "Row 85 checked\n",
      "Row 86 checked\n",
      "Row 87 checked\n",
      "Row 88 checked\n",
      "Row 89 checked\n",
      "Row 90 checked\n",
      "Row 91 checked\n",
      "Row 92 checked\n",
      "Row 93 checked\n",
      "Row 94 checked\n",
      "Row 95 checked\n",
      "Row 96 checked\n",
      "Row 97 checked\n",
      "Row 98 checked\n",
      "Row 99 checked\n",
      "Row 100 checked\n",
      "Row 101 checked\n",
      "Row 102 checked\n",
      "Row 103 checked\n",
      "Row 104 checked\n",
      "Row 105 checked\n",
      "Row 106 checked\n",
      "Row 107 checked\n",
      "Row 108 checked\n",
      "Row 109 checked\n",
      "Row 110 checked\n",
      "Row 111 checked\n",
      "Row 112 checked\n",
      "Row 113 checked\n",
      "Row 114 checked\n",
      "Row 115 checked\n",
      "Row 116 checked\n",
      "Row 117 checked\n",
      "Row 118 checked\n",
      "Row 119 checked\n",
      "Row 120 checked\n",
      "Row 121 checked\n",
      "Row 122 checked\n",
      "Row 123 checked\n",
      "Row 124 checked\n",
      "Row 125 checked\n",
      "Row 126 checked\n",
      "Row 127 checked\n",
      "Row 128 checked\n",
      "Row 129 checked\n",
      "Row 130 checked\n",
      "Row 131 checked\n",
      "Row 132 checked\n",
      "Row 133 checked\n",
      "Row 134 checked\n",
      "Row 135 checked\n",
      "Row 136 checked\n",
      "Row 137 checked\n",
      "Row 138 checked\n",
      "Row 139 checked\n",
      "Row 140 checked\n",
      "Row 141 checked\n",
      "Row 142 checked\n",
      "Row 143 checked\n",
      "Row 144 checked\n",
      "Row 145 checked\n",
      "Row 146 checked\n",
      "Row 147 checked\n",
      "Row 148 checked\n",
      "Row 149 checked\n",
      "Row 150 checked\n",
      "Row 151 checked\n",
      "Row 152 checked\n",
      "Row 153 checked\n",
      "Row 154 checked\n",
      "Row 155 checked\n",
      "Row 156 checked\n",
      "Row 157 checked\n",
      "Row 158 checked\n",
      "Row 159 checked\n",
      "Row 160 checked\n",
      "Row 161 checked\n",
      "Row 162 checked\n",
      "Row 163 checked\n",
      "Row 164 checked\n",
      "Row 165 checked\n",
      "Row 166 checked\n",
      "Row 167 checked\n",
      "Row 168 checked\n",
      "Row 169 checked\n",
      "Row 170 checked\n",
      "Row 171 checked\n",
      "Row 172 checked\n",
      "Row 173 checked\n",
      "Row 174 checked\n",
      "Row 175 checked\n",
      "Row 176 checked\n",
      "Row 177 checked\n",
      "Row 178 checked\n",
      "Row 179 checked\n",
      "Row 180 checked\n",
      "Row 181 checked\n",
      "Row 182 checked\n",
      "Row 183 checked\n",
      "Row 184 checked\n",
      "Row 185 checked\n",
      "Row 186 checked\n",
      "Row 187 checked\n",
      "Row 188 checked\n",
      "Row 189 checked\n",
      "Row 190 checked\n",
      "Row 191 checked\n",
      "Row 192 checked\n",
      "Row 193 checked\n",
      "Row 194 checked\n",
      "Row 195 checked\n",
      "Row 196 checked\n",
      "Row 197 checked\n",
      "Row 198 checked\n",
      "Row 199 checked\n",
      "Row 200 checked\n"
     ],
     "output_type": "stream"
    }
   ],
   "source": [
    "for i in range(200):\n",
    "    row = i\n",
    "    for j in range(441):\n",
    "        column = 4 * j\n",
    "        if 0.9999999 <= OriginalData.iloc[row, column] / Box1.iloc[row, j] <= 1.0000001 is False:\n",
    "            print(f\"SpectraMatrix ({row}, {column}) within 0.00001% of Box 1 ({row}, {j})? {0.9999999 <= OriginalData.iloc[row, column] / Box1.iloc[row, j] <= 1.0000001}\")\n",
    "        if 0.9999999 <= OriginalData.iloc[row, (column+1)] / Box2.iloc[row, j] <= 1.0000001 is False:\n",
    "            print(f\"SpectraMatrix ({row}, {column+1}) within 0.00001% of Box 2 ({row}, {j})? {0.9999999 <= OriginalData.iloc[row, (column+1)] / Box2.iloc[row, j] <= 1.0000001}\")\n",
    "        if 0.9999999 <= OriginalData.iloc[row, (column+2)] / Box3.iloc[row, j] <= 1.0000001 is False:\n",
    "            print(f\"SpectraMatrix ({row}, {column+2}) within 0.00001% of Box 3 ({row}, {j})? {0.9999999 <= OriginalData.iloc[row, (column+2)] / Box3.iloc[row, j] <= 1.0000001}\")\n",
    "        if 0.9999999 <= OriginalData.iloc[row, (column+3)] / Box4.iloc[row, j] <= 1.0000001 is False:\n",
    "            print(f\"SpectraMatrix ({row}, {column+3}) within 0.00001% of Box 4 ({row}, {j})? {0.9999999 <= OriginalData.iloc[row, (column+3)] / Box4.iloc[row, j] <= 1.0000001}\")\n",
    "        \n",
    "    print(f\"Row {row+1} checked\")"
   ],
   "metadata": {
    "collapsed": false,
    "pycharm": {
     "name": "#%%\n",
     "is_executing": false
    }
   }
  },
  {
   "cell_type": "markdown",
   "source": [
    "All data from the SpectraMatrix.csv is transferred correctly to each of the four boxes, though floating point errors are riddled throughout. These errors do not deviate by more than 0.00001% from the original values, however.\n"
   ],
   "metadata": {
    "collapsed": false,
    "pycharm": {
     "name": "#%% md\n"
    }
   }
  }
 ],
 "metadata": {
  "kernelspec": {
   "display_name": "Python 3",
   "language": "python",
   "name": "python3"
  },
  "language_info": {
   "codemirror_mode": {
    "name": "ipython",
    "version": 2
   },
   "file_extension": ".py",
   "mimetype": "text/x-python",
   "name": "python",
   "nbconvert_exporter": "python",
   "pygments_lexer": "ipython2",
   "version": "2.7.6"
  },
  "pycharm": {
   "stem_cell": {
    "cell_type": "raw",
    "source": [],
    "metadata": {
     "collapsed": false
    }
   }
  }
 },
 "nbformat": 4,
 "nbformat_minor": 0
}